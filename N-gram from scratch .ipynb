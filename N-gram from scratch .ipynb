{
 "cells": [
  {
   "cell_type": "code",
   "execution_count": 26,
   "metadata": {},
   "outputs": [],
   "source": [
    "import re\n",
    "\n",
    "def generate_ngrams(s, n):\n",
    "    # Convert to lowercases\n",
    "    s = s.lower()\n",
    "    \n",
    "    # Replace all none alphanumeric characters with spaces\n",
    "    s = re.sub(r'[^a-zA-Z0-9\\s]', ' ', s)\n",
    "    \n",
    "    # Break sentence in the token, remove empty tokens\n",
    "    tokens = [token for token in s.split(\" \") if token != \"\"]\n",
    "    \n",
    "    # Use the zip function to help us generate n-grams\n",
    "    # Concatentate the tokens into ngrams and return\n",
    "    ngrams = zip(*[tokens[i:] for i in range(n)])\n",
    "    x=[tokens[i:] for i in range(n)]\n",
    "    print(\" x is :\", x)\n",
    "\n",
    "    print(\"ngrams is : \", list(ngrams))\n",
    "   \n",
    "    return [\" \".join(ngram) for ngram in ngrams]"
   ]
  },
  {
   "cell_type": "code",
   "execution_count": 27,
   "metadata": {},
   "outputs": [],
   "source": [
    "s = \"Natural-language processing (NLP) is an area of computer science \" \\\n",
    "    \"and artificial intelligence concerned with the interactions \" \\\n",
    "    \"between computers and human (natural) languages.\""
   ]
  },
  {
   "cell_type": "code",
   "execution_count": 28,
   "metadata": {},
   "outputs": [
    {
     "name": "stdout",
     "output_type": "stream",
     "text": [
      " x is : [['natural', 'language', 'processing', 'nlp', 'is', 'an', 'area', 'of', 'computer', 'science', 'and', 'artificial', 'intelligence', 'concerned', 'with', 'the', 'interactions', 'between', 'computers', 'and', 'human', 'natural', 'languages'], ['language', 'processing', 'nlp', 'is', 'an', 'area', 'of', 'computer', 'science', 'and', 'artificial', 'intelligence', 'concerned', 'with', 'the', 'interactions', 'between', 'computers', 'and', 'human', 'natural', 'languages'], ['processing', 'nlp', 'is', 'an', 'area', 'of', 'computer', 'science', 'and', 'artificial', 'intelligence', 'concerned', 'with', 'the', 'interactions', 'between', 'computers', 'and', 'human', 'natural', 'languages'], ['nlp', 'is', 'an', 'area', 'of', 'computer', 'science', 'and', 'artificial', 'intelligence', 'concerned', 'with', 'the', 'interactions', 'between', 'computers', 'and', 'human', 'natural', 'languages'], ['is', 'an', 'area', 'of', 'computer', 'science', 'and', 'artificial', 'intelligence', 'concerned', 'with', 'the', 'interactions', 'between', 'computers', 'and', 'human', 'natural', 'languages']]\n",
      "ngrams is :  [('natural', 'language', 'processing', 'nlp', 'is'), ('language', 'processing', 'nlp', 'is', 'an'), ('processing', 'nlp', 'is', 'an', 'area'), ('nlp', 'is', 'an', 'area', 'of'), ('is', 'an', 'area', 'of', 'computer'), ('an', 'area', 'of', 'computer', 'science'), ('area', 'of', 'computer', 'science', 'and'), ('of', 'computer', 'science', 'and', 'artificial'), ('computer', 'science', 'and', 'artificial', 'intelligence'), ('science', 'and', 'artificial', 'intelligence', 'concerned'), ('and', 'artificial', 'intelligence', 'concerned', 'with'), ('artificial', 'intelligence', 'concerned', 'with', 'the'), ('intelligence', 'concerned', 'with', 'the', 'interactions'), ('concerned', 'with', 'the', 'interactions', 'between'), ('with', 'the', 'interactions', 'between', 'computers'), ('the', 'interactions', 'between', 'computers', 'and'), ('interactions', 'between', 'computers', 'and', 'human'), ('between', 'computers', 'and', 'human', 'natural'), ('computers', 'and', 'human', 'natural', 'languages')]\n"
     ]
    },
    {
     "data": {
      "text/plain": [
       "[]"
      ]
     },
     "execution_count": 28,
     "metadata": {},
     "output_type": "execute_result"
    }
   ],
   "source": [
    "generate_ngrams(s, n=5)"
   ]
  },
  {
   "cell_type": "markdown",
   "metadata": {},
   "source": [
    "http://www.albertauyeung.com/post/generating-ngrams-python/\n",
    "    https://appdividend.com/2019/04/09/python-zip-example-python-zip-function-tutorial/\n",
    "    "
   ]
  }
 ],
 "metadata": {
  "kernelspec": {
   "display_name": "Python 3",
   "language": "python",
   "name": "python3"
  },
  "language_info": {
   "codemirror_mode": {
    "name": "ipython",
    "version": 3
   },
   "file_extension": ".py",
   "mimetype": "text/x-python",
   "name": "python",
   "nbconvert_exporter": "python",
   "pygments_lexer": "ipython3",
   "version": "3.7.3"
  }
 },
 "nbformat": 4,
 "nbformat_minor": 2
}
