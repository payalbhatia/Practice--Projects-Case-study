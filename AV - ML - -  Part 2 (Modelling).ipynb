{
 "cells": [
  {
   "cell_type": "code",
   "execution_count": 1,
   "metadata": {},
   "outputs": [],
   "source": [
    "import pandas as pd\n",
    "import matplotlib.pyplot as plt\n",
    "import numpy as np\n",
    "import scipy.stats as spstats\n",
    "%matplotlib inline\n",
    "import os\n",
    "\n",
    "import seaborn as sns\n",
    "import zipfile\n"
   ]
  },
  {
   "cell_type": "code",
   "execution_count": 2,
   "metadata": {},
   "outputs": [],
   "source": [
    "train_data=pd.read_csv(r'C:\\Users\\payal2.bhatia\\Desktop\\export_train_dataframe.csv')"
   ]
  },
  {
   "cell_type": "code",
   "execution_count": 3,
   "metadata": {},
   "outputs": [
    {
     "data": {
      "text/html": [
       "<div>\n",
       "<style scoped>\n",
       "    .dataframe tbody tr th:only-of-type {\n",
       "        vertical-align: middle;\n",
       "    }\n",
       "\n",
       "    .dataframe tbody tr th {\n",
       "        vertical-align: top;\n",
       "    }\n",
       "\n",
       "    .dataframe thead th {\n",
       "        text-align: right;\n",
       "    }\n",
       "</style>\n",
       "<table border=\"1\" class=\"dataframe\">\n",
       "  <thead>\n",
       "    <tr style=\"text-align: right;\">\n",
       "      <th></th>\n",
       "      <th>loan_id</th>\n",
       "      <th>source</th>\n",
       "      <th>financial_institution</th>\n",
       "      <th>interest_rate</th>\n",
       "      <th>unpaid_principal_bal</th>\n",
       "      <th>loan_term</th>\n",
       "      <th>origination_date</th>\n",
       "      <th>first_payment_date</th>\n",
       "      <th>loan_to_value</th>\n",
       "      <th>number_of_borrowers</th>\n",
       "      <th>...</th>\n",
       "      <th>m11</th>\n",
       "      <th>m12</th>\n",
       "      <th>m13</th>\n",
       "      <th>loan_term_labels</th>\n",
       "      <th>LTV_scale_10</th>\n",
       "      <th>Risk_Level</th>\n",
       "      <th>LTV_quantile_range</th>\n",
       "      <th>LTV_quantile_label</th>\n",
       "      <th>DTI_scale_10</th>\n",
       "      <th>1st pd afterDays</th>\n",
       "    </tr>\n",
       "  </thead>\n",
       "  <tbody>\n",
       "    <tr>\n",
       "      <th>0</th>\n",
       "      <td>268055008619</td>\n",
       "      <td>Z</td>\n",
       "      <td>Turner, Baldwin and Rhodes</td>\n",
       "      <td>4.250</td>\n",
       "      <td>214000</td>\n",
       "      <td>360</td>\n",
       "      <td>Mar</td>\n",
       "      <td>May</td>\n",
       "      <td>95</td>\n",
       "      <td>1.0</td>\n",
       "      <td>...</td>\n",
       "      <td>0</td>\n",
       "      <td>0</td>\n",
       "      <td>1</td>\n",
       "      <td>330-360</td>\n",
       "      <td>10.0</td>\n",
       "      <td>High Risk</td>\n",
       "      <td>(80.0, 97.0]</td>\n",
       "      <td>75-100Q</td>\n",
       "      <td>2.0</td>\n",
       "      <td>61</td>\n",
       "    </tr>\n",
       "    <tr>\n",
       "      <th>1</th>\n",
       "      <td>672831657627</td>\n",
       "      <td>Y</td>\n",
       "      <td>Swanson, Newton and Miller</td>\n",
       "      <td>4.875</td>\n",
       "      <td>144000</td>\n",
       "      <td>360</td>\n",
       "      <td>Jan</td>\n",
       "      <td>Mar</td>\n",
       "      <td>72</td>\n",
       "      <td>1.0</td>\n",
       "      <td>...</td>\n",
       "      <td>1</td>\n",
       "      <td>0</td>\n",
       "      <td>1</td>\n",
       "      <td>330-360</td>\n",
       "      <td>7.0</td>\n",
       "      <td>Good Risk</td>\n",
       "      <td>(57.0, 72.0]</td>\n",
       "      <td>25-50Q</td>\n",
       "      <td>4.0</td>\n",
       "      <td>60</td>\n",
       "    </tr>\n",
       "  </tbody>\n",
       "</table>\n",
       "<p>2 rows × 36 columns</p>\n",
       "</div>"
      ],
      "text/plain": [
       "        loan_id source       financial_institution  interest_rate  \\\n",
       "0  268055008619      Z  Turner, Baldwin and Rhodes          4.250   \n",
       "1  672831657627      Y  Swanson, Newton and Miller          4.875   \n",
       "\n",
       "   unpaid_principal_bal  loan_term origination_date first_payment_date  \\\n",
       "0                214000        360              Mar                May   \n",
       "1                144000        360              Jan                Mar   \n",
       "\n",
       "   loan_to_value  number_of_borrowers  ...  m11  m12 m13  loan_term_labels  \\\n",
       "0             95                  1.0  ...    0    0   1           330-360   \n",
       "1             72                  1.0  ...    1    0   1           330-360   \n",
       "\n",
       "   LTV_scale_10  Risk_Level  LTV_quantile_range  LTV_quantile_label  \\\n",
       "0          10.0   High Risk        (80.0, 97.0]             75-100Q   \n",
       "1           7.0   Good Risk        (57.0, 72.0]              25-50Q   \n",
       "\n",
       "   DTI_scale_10  1st pd afterDays  \n",
       "0           2.0                61  \n",
       "1           4.0                60  \n",
       "\n",
       "[2 rows x 36 columns]"
      ]
     },
     "execution_count": 3,
     "metadata": {},
     "output_type": "execute_result"
    }
   ],
   "source": [
    "train_data.head(2)"
   ]
  },
  {
   "cell_type": "code",
   "execution_count": 11,
   "metadata": {},
   "outputs": [],
   "source": [
    "import pylib\n",
    "import plotly"
   ]
  },
  {
   "cell_type": "code",
   "execution_count": 3,
   "metadata": {},
   "outputs": [],
   "source": [
    "train_data[\"insurance_type\"]=train_data[\"insurance_type\"].astype(\"object\")"
   ]
  },
  {
   "cell_type": "code",
   "execution_count": 137,
   "metadata": {},
   "outputs": [],
   "source": [
    "train_data[\"logodd_m13\"]=num_data[\"m13\"].apply(lambda x: np.where(x==1, np.log((636/115422)/(1-636/115422)), np.log((1-636/115422)/(636/115422))\n",
    "))"
   ]
  },
  {
   "cell_type": "code",
   "execution_count": 10,
   "metadata": {},
   "outputs": [],
   "source": [
    "num_columns=[i for i in train_data.columns if train_data[i].dtype != \"object\"]\n",
    "cat_columns=[i for i in train_data.columns if train_data[i].dtype == \"object\"]"
   ]
  },
  {
   "cell_type": "code",
   "execution_count": 5,
   "metadata": {},
   "outputs": [
    {
     "data": {
      "text/plain": [
       "(26, 10)"
      ]
     },
     "execution_count": 5,
     "metadata": {},
     "output_type": "execute_result"
    }
   ],
   "source": [
    "len(num_columns), len(cat_columns)"
   ]
  },
  {
   "cell_type": "code",
   "execution_count": 11,
   "metadata": {},
   "outputs": [],
   "source": [
    "num_data=train_data.filter(num_columns)"
   ]
  },
  {
   "cell_type": "code",
   "execution_count": 38,
   "metadata": {},
   "outputs": [
    {
     "data": {
      "text/plain": [
       "['loan_id',\n",
       " 'interest_rate',\n",
       " 'unpaid_principal_bal',\n",
       " 'loan_term',\n",
       " 'loan_to_value',\n",
       " 'number_of_borrowers',\n",
       " 'debt_to_income_ratio',\n",
       " 'borrower_credit_score',\n",
       " 'insurance_percent',\n",
       " 'co-borrower_credit_score',\n",
       " 'insurance_type',\n",
       " 'm1',\n",
       " 'm2',\n",
       " 'm3',\n",
       " 'm4',\n",
       " 'm5',\n",
       " 'm6',\n",
       " 'm7',\n",
       " 'm8',\n",
       " 'm9',\n",
       " 'm10',\n",
       " 'm11',\n",
       " 'm12',\n",
       " 'm13',\n",
       " 'LTV_scale_10',\n",
       " 'DTI_scale_10',\n",
       " '1st pd afterDays']"
      ]
     },
     "execution_count": 38,
     "metadata": {},
     "output_type": "execute_result"
    }
   ],
   "source": [
    "num_columns"
   ]
  },
  {
   "cell_type": "code",
   "execution_count": 6,
   "metadata": {},
   "outputs": [
    {
     "data": {
      "text/plain": [
       "loan_id                     2.680550e+11\n",
       "interest_rate               4.250000e+00\n",
       "unpaid_principal_bal        2.140000e+05\n",
       "loan_term                   3.600000e+02\n",
       "loan_to_value               9.500000e+01\n",
       "number_of_borrowers         1.000000e+00\n",
       "debt_to_income_ratio        2.200000e+01\n",
       "borrower_credit_score       6.940000e+02\n",
       "insurance_percent           3.000000e+01\n",
       "co-borrower_credit_score    0.000000e+00\n",
       "insurance_type              0.000000e+00\n",
       "m1                          0.000000e+00\n",
       "m2                          0.000000e+00\n",
       "m3                          0.000000e+00\n",
       "m4                          0.000000e+00\n",
       "m5                          0.000000e+00\n",
       "m6                          0.000000e+00\n",
       "m7                          1.000000e+00\n",
       "m8                          0.000000e+00\n",
       "m9                          0.000000e+00\n",
       "m10                         0.000000e+00\n",
       "m11                         0.000000e+00\n",
       "m12                         0.000000e+00\n",
       "m13                         1.000000e+00\n",
       "LTV_scale_10                1.000000e+01\n",
       "DTI_scale_10                2.000000e+00\n",
       "1st pd afterDays            6.100000e+01\n",
       "Name: 0, dtype: float64"
      ]
     },
     "execution_count": 6,
     "metadata": {},
     "output_type": "execute_result"
    }
   ],
   "source": [
    "pd.Series(num_data.iloc[0,:])"
   ]
  },
  {
   "cell_type": "code",
   "execution_count": 7,
   "metadata": {},
   "outputs": [
    {
     "data": {
      "text/plain": [
       "Index(['loan_id', 'interest_rate', 'unpaid_principal_bal', 'loan_term',\n",
       "       'loan_to_value', 'number_of_borrowers', 'debt_to_income_ratio',\n",
       "       'borrower_credit_score', 'insurance_percent',\n",
       "       'co-borrower_credit_score', 'insurance_type', 'm1', 'm2', 'm3', 'm4',\n",
       "       'm5', 'm6', 'm7', 'm8', 'm9', 'm10', 'm11', 'm12', 'm13',\n",
       "       'LTV_scale_10', 'DTI_scale_10', '1st pd afterDays'],\n",
       "      dtype='object')"
      ]
     },
     "execution_count": 7,
     "metadata": {},
     "output_type": "execute_result"
    }
   ],
   "source": [
    "num_data.columns"
   ]
  },
  {
   "cell_type": "markdown",
   "metadata": {},
   "source": [
    "#### Interactions"
   ]
  },
  {
   "cell_type": "code",
   "execution_count": 8,
   "metadata": {},
   "outputs": [],
   "source": [
    "interest_data=num_data[['interest_rate','loan_term']]"
   ]
  },
  {
   "cell_type": "code",
   "execution_count": 9,
   "metadata": {},
   "outputs": [
    {
     "data": {
      "text/html": [
       "<div>\n",
       "<style scoped>\n",
       "    .dataframe tbody tr th:only-of-type {\n",
       "        vertical-align: middle;\n",
       "    }\n",
       "\n",
       "    .dataframe tbody tr th {\n",
       "        vertical-align: top;\n",
       "    }\n",
       "\n",
       "    .dataframe thead th {\n",
       "        text-align: right;\n",
       "    }\n",
       "</style>\n",
       "<table border=\"1\" class=\"dataframe\">\n",
       "  <thead>\n",
       "    <tr style=\"text-align: right;\">\n",
       "      <th></th>\n",
       "      <th>interest_rate</th>\n",
       "      <th>loan_term</th>\n",
       "    </tr>\n",
       "  </thead>\n",
       "  <tbody>\n",
       "    <tr>\n",
       "      <th>interest_rate</th>\n",
       "      <td>1.000000</td>\n",
       "      <td>0.720734</td>\n",
       "    </tr>\n",
       "    <tr>\n",
       "      <th>loan_term</th>\n",
       "      <td>0.720734</td>\n",
       "      <td>1.000000</td>\n",
       "    </tr>\n",
       "  </tbody>\n",
       "</table>\n",
       "</div>"
      ],
      "text/plain": [
       "               interest_rate  loan_term\n",
       "interest_rate       1.000000   0.720734\n",
       "loan_term           0.720734   1.000000"
      ]
     },
     "execution_count": 9,
     "metadata": {},
     "output_type": "execute_result"
    }
   ],
   "source": [
    "interest_data.corr()"
   ]
  },
  {
   "cell_type": "markdown",
   "metadata": {},
   "source": [
    "loan_term and interest has high correlation"
   ]
  },
  {
   "cell_type": "code",
   "execution_count": 10,
   "metadata": {},
   "outputs": [
    {
     "data": {
      "text/plain": [
       "<matplotlib.axes._subplots.AxesSubplot at 0x2077d2db5f8>"
      ]
     },
     "execution_count": 10,
     "metadata": {},
     "output_type": "execute_result"
    },
    {
     "data": {
      "image/png": "[encoded data removed]",
      "text/plain": [
       "<Figure size 432x288 with 1 Axes>"
      ]
     },
     "metadata": {
      "needs_background": "light"
     },
     "output_type": "display_data"
    }
   ],
   "source": [
    "sns.scatterplot(interest_data[\"interest_rate\"], interest_data[\"loan_term\"])"
   ]
  },
  {
   "cell_type": "code",
   "execution_count": 8,
   "metadata": {},
   "outputs": [
    {
     "ename": "NameError",
     "evalue": "name 'interest_data' is not defined",
     "output_type": "error",
     "traceback": [
      "\u001b[1;31m---------------------------------------------------------------------------\u001b[0m",
      "\u001b[1;31mNameError\u001b[0m                                 Traceback (most recent call last)",
      "\u001b[1;32m<ipython-input-8-1741c54ba5de>\u001b[0m in \u001b[0;36m<module>\u001b[1;34m\u001b[0m\n\u001b[0;32m      2\u001b[0m \u001b[1;33m\u001b[0m\u001b[0m\n\u001b[0;32m      3\u001b[0m \u001b[0mpf\u001b[0m \u001b[1;33m=\u001b[0m \u001b[0mPolynomialFeatures\u001b[0m\u001b[1;33m(\u001b[0m\u001b[0mdegree\u001b[0m\u001b[1;33m=\u001b[0m\u001b[1;36m2\u001b[0m\u001b[1;33m,\u001b[0m \u001b[0minteraction_only\u001b[0m\u001b[1;33m=\u001b[0m\u001b[1;32mFalse\u001b[0m\u001b[1;33m,\u001b[0m \u001b[0minclude_bias\u001b[0m\u001b[1;33m=\u001b[0m\u001b[1;32mFalse\u001b[0m\u001b[1;33m)\u001b[0m\u001b[1;33m\u001b[0m\u001b[1;33m\u001b[0m\u001b[0m\n\u001b[1;32m----> 4\u001b[1;33m \u001b[0mres\u001b[0m \u001b[1;33m=\u001b[0m \u001b[0mpf\u001b[0m\u001b[1;33m.\u001b[0m\u001b[0mfit_transform\u001b[0m\u001b[1;33m(\u001b[0m\u001b[0minterest_data\u001b[0m\u001b[1;33m)\u001b[0m\u001b[1;33m\u001b[0m\u001b[1;33m\u001b[0m\u001b[0m\n\u001b[0m\u001b[0;32m      5\u001b[0m \u001b[0mres\u001b[0m\u001b[1;33m.\u001b[0m\u001b[0mshape\u001b[0m\u001b[1;33m\u001b[0m\u001b[1;33m\u001b[0m\u001b[0m\n",
      "\u001b[1;31mNameError\u001b[0m: name 'interest_data' is not defined"
     ]
    }
   ],
   "source": [
    "from sklearn.preprocessing import PolynomialFeatures\n",
    "\n",
    "pf = PolynomialFeatures(degree=2, interaction_only=False, include_bias=False)\n",
    "res = pf.fit_transform(interest_data)\n",
    "res.shape"
   ]
  },
  {
   "cell_type": "code",
   "execution_count": 12,
   "metadata": {},
   "outputs": [
    {
     "data": {
      "text/html": [
       "<div>\n",
       "<style scoped>\n",
       "    .dataframe tbody tr th:only-of-type {\n",
       "        vertical-align: middle;\n",
       "    }\n",
       "\n",
       "    .dataframe tbody tr th {\n",
       "        vertical-align: top;\n",
       "    }\n",
       "\n",
       "    .dataframe thead th {\n",
       "        text-align: right;\n",
       "    }\n",
       "</style>\n",
       "<table border=\"1\" class=\"dataframe\">\n",
       "  <thead>\n",
       "    <tr style=\"text-align: right;\">\n",
       "      <th></th>\n",
       "      <th>interest_rate_degree</th>\n",
       "      <th>loan_term_degree</th>\n",
       "    </tr>\n",
       "  </thead>\n",
       "  <tbody>\n",
       "    <tr>\n",
       "      <th>0</th>\n",
       "      <td>1</td>\n",
       "      <td>0</td>\n",
       "    </tr>\n",
       "    <tr>\n",
       "      <th>1</th>\n",
       "      <td>0</td>\n",
       "      <td>1</td>\n",
       "    </tr>\n",
       "    <tr>\n",
       "      <th>2</th>\n",
       "      <td>2</td>\n",
       "      <td>0</td>\n",
       "    </tr>\n",
       "    <tr>\n",
       "      <th>3</th>\n",
       "      <td>1</td>\n",
       "      <td>1</td>\n",
       "    </tr>\n",
       "    <tr>\n",
       "      <th>4</th>\n",
       "      <td>0</td>\n",
       "      <td>2</td>\n",
       "    </tr>\n",
       "  </tbody>\n",
       "</table>\n",
       "</div>"
      ],
      "text/plain": [
       "   interest_rate_degree  loan_term_degree\n",
       "0                     1                 0\n",
       "1                     0                 1\n",
       "2                     2                 0\n",
       "3                     1                 1\n",
       "4                     0                 2"
      ]
     },
     "execution_count": 12,
     "metadata": {},
     "output_type": "execute_result"
    }
   ],
   "source": [
    "pd.DataFrame(pf.powers_, columns=['interest_rate_degree',  'loan_term_degree',\n",
    "       ])"
   ]
  },
  {
   "cell_type": "code",
   "execution_count": 7,
   "metadata": {},
   "outputs": [
    {
     "ename": "NameError",
     "evalue": "name 'res' is not defined",
     "output_type": "error",
     "traceback": [
      "\u001b[1;31m---------------------------------------------------------------------------\u001b[0m",
      "\u001b[1;31mNameError\u001b[0m                                 Traceback (most recent call last)",
      "\u001b[1;32m<ipython-input-7-7bd5372bd9aa>\u001b[0m in \u001b[0;36m<module>\u001b[1;34m\u001b[0m\n\u001b[1;32m----> 1\u001b[1;33m \u001b[0mintr_features\u001b[0m \u001b[1;33m=\u001b[0m \u001b[0mpd\u001b[0m\u001b[1;33m.\u001b[0m\u001b[0mDataFrame\u001b[0m\u001b[1;33m(\u001b[0m\u001b[0mres\u001b[0m\u001b[1;33m,\u001b[0m \u001b[0mcolumns\u001b[0m\u001b[1;33m=\u001b[0m\u001b[1;33m[\u001b[0m\u001b[1;34m'interest_rate'\u001b[0m\u001b[1;33m,\u001b[0m \u001b[1;34m'loan_term'\u001b[0m\u001b[1;33m,\u001b[0m \u001b[1;34m'interest_rate^2'\u001b[0m\u001b[1;33m,\u001b[0m \u001b[1;34m'interest_rate x loan_term'\u001b[0m\u001b[1;33m,\u001b[0m \u001b[1;34m'loan_term^2'\u001b[0m\u001b[1;33m]\u001b[0m\u001b[1;33m)\u001b[0m\u001b[1;33m\u001b[0m\u001b[1;33m\u001b[0m\u001b[0m\n\u001b[0m\u001b[0;32m      2\u001b[0m \u001b[0mintr_features\u001b[0m\u001b[1;33m.\u001b[0m\u001b[0mhead\u001b[0m\u001b[1;33m(\u001b[0m\u001b[1;36m5\u001b[0m\u001b[1;33m)\u001b[0m\u001b[1;33m\u001b[0m\u001b[1;33m\u001b[0m\u001b[0m\n",
      "\u001b[1;31mNameError\u001b[0m: name 'res' is not defined"
     ]
    }
   ],
   "source": [
    "intr_features = pd.DataFrame(res, columns=['interest_rate', 'loan_term', 'interest_rate^2', 'interest_rate x loan_term', 'loan_term^2'])\n",
    "intr_features.head(5)"
   ]
  },
  {
   "cell_type": "code",
   "execution_count": 15,
   "metadata": {},
   "outputs": [],
   "source": [
    "intr_features=pd.concat([intr_features, train_data[\"m13\"]], axis=1)"
   ]
  },
  {
   "cell_type": "code",
   "execution_count": 236,
   "metadata": {},
   "outputs": [],
   "source": [
    "from sklearn.linear_model import LogisticRegression\n",
    "from sklearn.utils import compute_class_weight\n",
    "\n",
    "weights=compute_class_weight(\"balanced\",np.unique(train_data[\"m13\"]),train_data[\"m13\"])\n",
    "\n",
    "LogReg=LogisticRegression(class_weight=\"balanced\",fit_intercept = False, C = 1e9)\n"
   ]
  },
  {
   "cell_type": "code",
   "execution_count": 40,
   "metadata": {},
   "outputs": [],
   "source": [
    "from sklearn.model_selection import train_test_split, GridSearchCV, KFold, cross_val_score, cross_validate"
   ]
  },
  {
   "cell_type": "code",
   "execution_count": 93,
   "metadata": {},
   "outputs": [],
   "source": [
    "# X=intr_features.drop(train_data[[\"m13\"]], axis=1, inplace=True)"
   ]
  },
  {
   "cell_type": "code",
   "execution_count": 42,
   "metadata": {},
   "outputs": [],
   "source": [
    "Y=train_data[[\"m13\"]]\n"
   ]
  },
  {
   "cell_type": "code",
   "execution_count": 165,
   "metadata": {},
   "outputs": [],
   "source": [
    "X_train, X_test, y_train, y_test=train_test_split(intr_features, Y)"
   ]
  },
  {
   "cell_type": "code",
   "execution_count": 151,
   "metadata": {},
   "outputs": [
    {
     "data": {
      "text/plain": [
       "((87043, 5), (29015, 5), (87043, 1), (29015, 1))"
      ]
     },
     "execution_count": 151,
     "metadata": {},
     "output_type": "execute_result"
    }
   ],
   "source": [
    "X_train.shape, X_test.shape, y_train.shape, y_test.shape"
   ]
  },
  {
   "cell_type": "code",
   "execution_count": 237,
   "metadata": {},
   "outputs": [
    {
     "name": "stderr",
     "output_type": "stream",
     "text": [
      "C:\\Users\\payal2.bhatia\\AppData\\Local\\Continuum\\anaconda3\\lib\\site-packages\\sklearn\\linear_model\\logistic.py:432: FutureWarning: Default solver will be changed to 'lbfgs' in 0.22. Specify a solver to silence this warning.\n",
      "  FutureWarning)\n",
      "C:\\Users\\payal2.bhatia\\AppData\\Local\\Continuum\\anaconda3\\lib\\site-packages\\sklearn\\utils\\validation.py:724: DataConversionWarning: A column-vector y was passed when a 1d array was expected. Please change the shape of y to (n_samples, ), for example using ravel().\n",
      "  y = column_or_1d(y, warn=True)\n"
     ]
    }
   ],
   "source": [
    "fit=LogReg.fit(X_train, y_train)"
   ]
  },
  {
   "cell_type": "code",
   "execution_count": 153,
   "metadata": {},
   "outputs": [],
   "source": [
    "y_pred=LogReg.predict(X_test)"
   ]
  },
  {
   "cell_type": "code",
   "execution_count": 154,
   "metadata": {},
   "outputs": [
    {
     "data": {
      "text/plain": [
       "array([[20339,  8504],\n",
       "       [   70,   102]], dtype=int64)"
      ]
     },
     "execution_count": 154,
     "metadata": {},
     "output_type": "execute_result"
    }
   ],
   "source": [
    "# import the metrics class\n",
    "from sklearn import metrics\n",
    "cnf_matrix = metrics.confusion_matrix(y_test, y_pred)\n",
    "cnf_matrix\n"
   ]
  },
  {
   "cell_type": "code",
   "execution_count": 155,
   "metadata": {},
   "outputs": [],
   "source": [
    " tn, fp, fn, tp = metrics.confusion_matrix(y_test, y_pred).ravel()"
   ]
  },
  {
   "cell_type": "code",
   "execution_count": 156,
   "metadata": {},
   "outputs": [
    {
     "data": {
      "text/plain": [
       "(20339, 8504, 70, 102)"
      ]
     },
     "execution_count": 156,
     "metadata": {},
     "output_type": "execute_result"
    }
   ],
   "source": [
    " tn, fp, fn, tp"
   ]
  },
  {
   "cell_type": "code",
   "execution_count": 157,
   "metadata": {},
   "outputs": [
    {
     "name": "stdout",
     "output_type": "stream",
     "text": [
      "Accuracy: 0.7044976736170946\n",
      "Precision: 0.011852196142226355\n",
      "Recall: 0.5930232558139535\n",
      "f1-Score: 0.023239917976760085\n"
     ]
    }
   ],
   "source": [
    "print(\"Accuracy:\",metrics.accuracy_score(y_test, y_pred))\n",
    "print(\"Precision:\",metrics.precision_score(y_test, y_pred))\n",
    "print(\"Recall:\",metrics.recall_score(y_test, y_pred))\n",
    "print(\"f1-Score:\",metrics.f1_score(y_test, y_pred))"
   ]
  },
  {
   "cell_type": "code",
   "execution_count": 158,
   "metadata": {},
   "outputs": [
    {
     "name": "stdout",
     "output_type": "stream",
     "text": [
      "[[0.99668606 0.97473463 1.10255969 1.00343688 1.0000193 ]]\n"
     ]
    }
   ],
   "source": [
    "print(np.exp(fit.coef_))"
   ]
  },
  {
   "cell_type": "markdown",
   "metadata": {},
   "source": [
    "##### Statsmodel Logistic"
   ]
  },
  {
   "cell_type": "code",
   "execution_count": 230,
   "metadata": {},
   "outputs": [
    {
     "name": "stdout",
     "output_type": "stream",
     "text": [
      "(87043, 5)\n",
      "(87043, 1)\n",
      "Optimization terminated successfully.\n",
      "         Current function value: 0.032886\n",
      "         Iterations 10\n",
      "                           Logit Regression Results                           \n",
      "==============================================================================\n",
      "Dep. Variable:                 target   No. Observations:                87043\n",
      "Model:                          Logit   Df Residuals:                    87038\n",
      "Method:                           MLE   Df Model:                            4\n",
      "Date:                Tue, 10 Sep 2019   Pseudo R-squ.:                 0.04113\n",
      "Time:                        17:59:39   Log-Likelihood:                -2862.5\n",
      "converged:                       True   LL-Null:                       -2985.2\n",
      "                                        LLR p-value:                 5.901e-52\n",
      "=============================================================================================\n",
      "                                coef    std err          z      P>|z|      [0.025      0.975]\n",
      "---------------------------------------------------------------------------------------------\n",
      "interest_rate                -2.0124      0.516     -3.898      0.000      -3.024      -1.000\n",
      "loan_term                    -0.0293      0.009     -3.371      0.001      -0.046      -0.012\n",
      "interest_rate^2               0.2038      0.125      1.632      0.103      -0.041       0.449\n",
      "interest_rate x loan_term     0.0056      0.002      2.599      0.009       0.001       0.010\n",
      "loan_term^2                1.438e-05   1.57e-05      0.917      0.359   -1.63e-05    4.51e-05\n",
      "=============================================================================================\n"
     ]
    }
   ],
   "source": [
    "from patsy import dmatrices\n",
    "import statsmodels.api as sm \n",
    "\n",
    "# y, X = dmatrices( 'y_train ~ X_train', data=X_train, return_type='dataframe')\n",
    "# # print(y)\n",
    "# # print(X)\n",
    "X_train = pd.DataFrame(X_train)\n",
    "# X_train.columns = independent_vars\n",
    "print(X_train.shape)\n",
    "X_test = pd.DataFrame(X_test)\n",
    "# X_test.columns = independent_vars\n",
    "y_train = pd.DataFrame(y_train)\n",
    "print(y_train.shape)\n",
    "y_test = pd.DataFrame(y_test)\n",
    "logit = sm.Logit(y_train,X_train,missing='drop')\n",
    "y, X = dmatrices( 'y_train ~ X_train', data=X_train, return_type='dataframe')\n",
    "logit = sm.Logit(y_train,X_train,missing='drop')\n",
    "result = logit.fit()\n",
    "print (result.summary())\n"
   ]
  },
  {
   "cell_type": "code",
   "execution_count": 238,
   "metadata": {},
   "outputs": [
    {
     "name": "stdout",
     "output_type": "stream",
     "text": [
      "Optimization terminated successfully.\n",
      "         Current function value: 0.032886\n",
      "         Iterations 10\n"
     ]
    },
    {
     "data": {
      "text/plain": [
       "(interest_rate               -2.012356\n",
       " loan_term                   -0.029263\n",
       " interest_rate^2              0.203838\n",
       " interest_rate x loan_term    0.005616\n",
       " loan_term^2                  0.000014\n",
       " dtype: float64, array([[ 2.88524085e-03, -2.70235769e-02,  7.07158390e-02,\n",
       "          4.44965910e-03,  1.48238647e-05]]))"
      ]
     },
     "execution_count": 238,
     "metadata": {},
     "output_type": "execute_result"
    }
   ],
   "source": [
    "logit.fit().params, fit.coef_"
   ]
  },
  {
   "cell_type": "code",
   "execution_count": 250,
   "metadata": {},
   "outputs": [],
   "source": [
    "y_pred1=fit.predict_proba(X_test,)\n",
    "\n",
    "#The first column is the probability that the entry has the -1 label \n",
    "#and the second column is the probability that the entry has the +1 label.\n",
    "y_pred2=fit.predict_log_proba(X_test)"
   ]
  },
  {
   "cell_type": "code",
   "execution_count": 261,
   "metadata": {},
   "outputs": [
    {
     "data": {
      "text/plain": [
       "-1.2167811487451636"
      ]
     },
     "execution_count": 261,
     "metadata": {},
     "output_type": "execute_result"
    }
   ],
   "source": [
    "np.log(0.296182), np.log(0.296182/(1-0.296182))"
   ]
  },
  {
   "cell_type": "code",
   "execution_count": 268,
   "metadata": {},
   "outputs": [
    {
     "data": {
      "text/plain": [
       "0       -inf\n",
       "1       -inf\n",
       "2       -inf\n",
       "3       -inf\n",
       "4       -inf\n",
       "5       -inf\n",
       "6       -inf\n",
       "7       -inf\n",
       "8       -inf\n",
       "9       -inf\n",
       "10      -inf\n",
       "11      -inf\n",
       "12      -inf\n",
       "13      -inf\n",
       "14      -inf\n",
       "15      -inf\n",
       "16      -inf\n",
       "17      -inf\n",
       "18      -inf\n",
       "19      -inf\n",
       "20      -inf\n",
       "21      -inf\n",
       "22      -inf\n",
       "23      -inf\n",
       "24      -inf\n",
       "25      -inf\n",
       "26      -inf\n",
       "27      -inf\n",
       "28      -inf\n",
       "29      -inf\n",
       "        ... \n",
       "28985   -inf\n",
       "28986   -inf\n",
       "28987   -inf\n",
       "28988   -inf\n",
       "28989   -inf\n",
       "28990   -inf\n",
       "28991   -inf\n",
       "28992   -inf\n",
       "28993   -inf\n",
       "28994   -inf\n",
       "28995   -inf\n",
       "28996   -inf\n",
       "28997   -inf\n",
       "28998   -inf\n",
       "28999   -inf\n",
       "29000   -inf\n",
       "29001   -inf\n",
       "29002   -inf\n",
       "29003   -inf\n",
       "29004   -inf\n",
       "29005   -inf\n",
       "29006   -inf\n",
       "29007   -inf\n",
       "29008   -inf\n",
       "29009   -inf\n",
       "29010   -inf\n",
       "29011   -inf\n",
       "29012   -inf\n",
       "29013   -inf\n",
       "29014   -inf\n",
       "Length: 29015, dtype: float64"
      ]
     },
     "execution_count": 268,
     "metadata": {},
     "output_type": "execute_result"
    }
   ],
   "source": [
    "pd.Series(y_pred1[:,1]).apply(lambda x: np.log(x/1-x))"
   ]
  },
  {
   "cell_type": "code",
   "execution_count": 232,
   "metadata": {},
   "outputs": [],
   "source": [
    "pred=result.predict(np.log(X_test), transform=True)"
   ]
  },
  {
   "cell_type": "code",
   "execution_count": 265,
   "metadata": {},
   "outputs": [
    {
     "name": "stderr",
     "output_type": "stream",
     "text": [
      "C:\\Users\\payal2.bhatia\\AppData\\Local\\Continuum\\anaconda3\\lib\\site-packages\\ipykernel_launcher.py:1: RuntimeWarning: divide by zero encountered in log\n",
      "  \"\"\"Entry point for launching an IPython kernel.\n"
     ]
    },
    {
     "data": {
      "text/plain": [
       "<matplotlib.axes._subplots.AxesSubplot at 0x2070c748278>"
      ]
     },
     "execution_count": 265,
     "metadata": {},
     "output_type": "execute_result"
    },
    {
     "data": {
      "image/png": "[encoded data removed]",
      "text/plain": [
       "<Figure size 432x288 with 1 Axes>"
      ]
     },
     "metadata": {
      "needs_background": "light"
     },
     "output_type": "display_data"
    }
   ],
   "source": [
    "sns.scatterplot(X_test[\"interest_rate\"], (np.log((y_pred1[:,1])/1-y_pred1[:,1])))\n",
    "\n",
    "#blue is logprob, orange is prob"
   ]
  },
  {
   "cell_type": "code",
   "execution_count": 234,
   "metadata": {},
   "outputs": [
    {
     "data": {
      "text/plain": [
       "16670     2.237634\n",
       "29998     2.213389\n",
       "68487     2.251454\n",
       "43215     2.251454\n",
       "28712     2.224990\n",
       "68739     2.180935\n",
       "46678     2.180935\n",
       "36673     2.266603\n",
       "25857     2.175354\n",
       "88954     2.189898\n",
       "101398    2.151077\n",
       "51212     2.133546\n",
       "97201     2.199595\n",
       "44031     2.251454\n",
       "97352     2.189898\n",
       "48153     2.251454\n",
       "58800     2.151077\n",
       "69943     2.164926\n",
       "58504     2.180935\n",
       "51978     2.182594\n",
       "70313     2.180935\n",
       "1235      2.190677\n",
       "84823     2.283262\n",
       "58022     2.189898\n",
       "64058     2.180935\n",
       "61283     2.191776\n",
       "68855     2.268989\n",
       "46520     2.189898\n",
       "106982    2.180935\n",
       "28526     2.164926\n",
       "            ...   \n",
       "30006     2.180935\n",
       "14875     2.157757\n",
       "48586     2.189898\n",
       "88929     2.166445\n",
       "78121     2.184483\n",
       "61253     2.199595\n",
       "48061     2.164926\n",
       "106524    2.237634\n",
       "111153    2.253714\n",
       "20392     2.151077\n",
       "94264     2.157757\n",
       "63568     2.135674\n",
       "98451     2.172633\n",
       "67811     2.189898\n",
       "81365     2.237634\n",
       "13557     2.189898\n",
       "39768     2.164926\n",
       "82083     2.189898\n",
       "53911     2.139009\n",
       "79210     2.181627\n",
       "95514     2.164926\n",
       "33111     2.212023\n",
       "54282     2.180935\n",
       "110208    2.237634\n",
       "113306    2.172633\n",
       "60171     2.181627\n",
       "107560    2.172633\n",
       "76697     2.224990\n",
       "43338     2.189898\n",
       "34949     2.180935\n",
       "Length: 29015, dtype: float64"
      ]
     },
     "execution_count": 234,
     "metadata": {},
     "output_type": "execute_result"
    }
   ],
   "source": [
    "def prob(x):\n",
    "    odds=np.exp(x)\n",
    "    prob=(odds/1+odds)\n",
    "    return prob\n",
    "pred.apply(lambda x: prob(x))\n"
   ]
  },
  {
   "cell_type": "code",
   "execution_count": 215,
   "metadata": {},
   "outputs": [
    {
     "name": "stdout",
     "output_type": "stream",
     "text": [
      "(-0.9799291332833839, 0.0)\n",
      "(-0.7776484386749926, 0.0)\n",
      "(-0.8762964425935292, 0.0)\n",
      "(-0.7691307012889835, 0.0)\n",
      "(-0.9591548417020159, 0.0)\n"
     ]
    }
   ],
   "source": [
    "from scipy.stats.stats import pearsonr   \n",
    "print (pearsonr(pred,(X_test[\"interest_rate\"])))\n",
    "print(pearsonr(pred,X_test[\"loan_term\"]))\n",
    "print(pearsonr(pred,X_test[\"interest_rate x loan_term\"]))\n",
    "print(pearsonr(pred,X_test[\"loan_term^2\"]))\n",
    "print(pearsonr(pred,X_test[\"interest_rate^2\"]))"
   ]
  },
  {
   "cell_type": "code",
   "execution_count": 216,
   "metadata": {},
   "outputs": [
    {
     "data": {
      "text/plain": [
       "count    29015.000000\n",
       "mean         0.093664\n",
       "std          0.017446\n",
       "min          0.039449\n",
       "25%          0.082792\n",
       "50%          0.090708\n",
       "75%          0.105960\n",
       "max          0.182984\n",
       "dtype: float64"
      ]
     },
     "execution_count": 216,
     "metadata": {},
     "output_type": "execute_result"
    }
   ],
   "source": [
    "pred.describe()"
   ]
  },
  {
   "cell_type": "markdown",
   "metadata": {},
   "source": [
    "\n",
    "This means log(p/(1-p)) = -16.0047 \n",
    "\n",
    "0    86579\n",
    "1      464\n",
    "total 87043\n",
    "\n",
    "p(1)=0.005330698620222189\n",
    "p(0)=0.9946693013797778\n",
    "\n",
    "odds(1)=0.005359267258804098\n",
    "\n",
    "log(odds(1))=-7.209929487558048 w/o predictor (np.log(64/86579))\n",
    "\n",
    "now in above summary , the estimated coefficient for the intercept i.e -16.0047  is the log odds of a delinqunet with other variables as zero hypothetically\n",
    "exp(-16.0047)=1.1200750040407942e-07\n",
    "\n",
    "\n",
    "log(p/(1-p))=-16.0047 + 4.8034*interest_rate -0.0161*loan_term -0.4864*interest_rate^2\n",
    "      +0.0037 *'interest_rate x loan_term'+ -2.635e-06*'loan_term^2'\n",
    "\n",
    "\n",
    "With a unit increase in interest rate np.exp(4.8034)= 121.9242560651631-- 12000% increase to delinquent ; holding all other variables constant\n"
   ]
  },
  {
   "cell_type": "code",
   "execution_count": 92,
   "metadata": {},
   "outputs": [
    {
     "name": "stdout",
     "output_type": "stream",
     "text": [
      "                    2.5%        97.5%     OddsRatio\n",
      "Intercept   6.417274e-10     0.000020  1.120124e-07\n",
      "X_train[0]  8.113357e+00  1832.051778  1.219184e+02\n",
      "X_train[1]  9.657910e-01     1.002571  9.840090e-01\n",
      "X_train[2]  4.156503e-01     0.909423  6.148187e-01\n",
      "X_train[3]  9.996759e-01     1.007697  1.003679e+00\n",
      "X_train[4]  9.999673e-01     1.000027  9.999974e-01\n"
     ]
    }
   ],
   "source": [
    "params = res.params\n",
    "conf = res.conf_int()\n",
    "conf['OddsRatio'] = params\n",
    "conf.columns = ['2.5%', '97.5%', 'OddsRatio']\n",
    "print(np.exp(conf))"
   ]
  },
  {
   "cell_type": "markdown",
   "metadata": {},
   "source": [
    "So, none of the interaction term worked"
   ]
  },
  {
   "cell_type": "code",
   "execution_count": 94,
   "metadata": {},
   "outputs": [
    {
     "name": "stderr",
     "output_type": "stream",
     "text": [
      "C:\\Users\\payal2.bhatia\\AppData\\Local\\Continuum\\anaconda3\\lib\\site-packages\\sklearn\\utils\\validation.py:724: DataConversionWarning: A column-vector y was passed when a 1d array was expected. Please change the shape of y to (n_samples, ), for example using ravel().\n",
      "  y = column_or_1d(y, warn=True)\n",
      "C:\\Users\\payal2.bhatia\\AppData\\Local\\Continuum\\anaconda3\\lib\\site-packages\\sklearn\\utils\\validation.py:724: DataConversionWarning: A column-vector y was passed when a 1d array was expected. Please change the shape of y to (n_samples, ), for example using ravel().\n",
      "  y = column_or_1d(y, warn=True)\n",
      "C:\\Users\\payal2.bhatia\\AppData\\Local\\Continuum\\anaconda3\\lib\\site-packages\\sklearn\\utils\\validation.py:724: DataConversionWarning: A column-vector y was passed when a 1d array was expected. Please change the shape of y to (n_samples, ), for example using ravel().\n",
      "  y = column_or_1d(y, warn=True)\n",
      "C:\\Users\\payal2.bhatia\\AppData\\Local\\Continuum\\anaconda3\\lib\\site-packages\\sklearn\\utils\\validation.py:724: DataConversionWarning: A column-vector y was passed when a 1d array was expected. Please change the shape of y to (n_samples, ), for example using ravel().\n",
      "  y = column_or_1d(y, warn=True)\n",
      "C:\\Users\\payal2.bhatia\\AppData\\Local\\Continuum\\anaconda3\\lib\\site-packages\\sklearn\\utils\\validation.py:724: DataConversionWarning: A column-vector y was passed when a 1d array was expected. Please change the shape of y to (n_samples, ), for example using ravel().\n",
      "  y = column_or_1d(y, warn=True)\n",
      "C:\\Users\\payal2.bhatia\\AppData\\Local\\Continuum\\anaconda3\\lib\\site-packages\\sklearn\\utils\\validation.py:724: DataConversionWarning: A column-vector y was passed when a 1d array was expected. Please change the shape of y to (n_samples, ), for example using ravel().\n",
      "  y = column_or_1d(y, warn=True)\n",
      "C:\\Users\\payal2.bhatia\\AppData\\Local\\Continuum\\anaconda3\\lib\\site-packages\\sklearn\\utils\\validation.py:724: DataConversionWarning: A column-vector y was passed when a 1d array was expected. Please change the shape of y to (n_samples, ), for example using ravel().\n",
      "  y = column_or_1d(y, warn=True)\n",
      "C:\\Users\\payal2.bhatia\\AppData\\Local\\Continuum\\anaconda3\\lib\\site-packages\\sklearn\\utils\\validation.py:724: DataConversionWarning: A column-vector y was passed when a 1d array was expected. Please change the shape of y to (n_samples, ), for example using ravel().\n",
      "  y = column_or_1d(y, warn=True)\n",
      "C:\\Users\\payal2.bhatia\\AppData\\Local\\Continuum\\anaconda3\\lib\\site-packages\\sklearn\\utils\\validation.py:724: DataConversionWarning: A column-vector y was passed when a 1d array was expected. Please change the shape of y to (n_samples, ), for example using ravel().\n",
      "  y = column_or_1d(y, warn=True)\n",
      "C:\\Users\\payal2.bhatia\\AppData\\Local\\Continuum\\anaconda3\\lib\\site-packages\\sklearn\\utils\\validation.py:724: DataConversionWarning: A column-vector y was passed when a 1d array was expected. Please change the shape of y to (n_samples, ), for example using ravel().\n",
      "  y = column_or_1d(y, warn=True)\n",
      "C:\\Users\\payal2.bhatia\\AppData\\Local\\Continuum\\anaconda3\\lib\\site-packages\\sklearn\\utils\\validation.py:724: DataConversionWarning: A column-vector y was passed when a 1d array was expected. Please change the shape of y to (n_samples, ), for example using ravel().\n",
      "  y = column_or_1d(y, warn=True)\n",
      "C:\\Users\\payal2.bhatia\\AppData\\Local\\Continuum\\anaconda3\\lib\\site-packages\\sklearn\\utils\\validation.py:724: DataConversionWarning: A column-vector y was passed when a 1d array was expected. Please change the shape of y to (n_samples, ), for example using ravel().\n",
      "  y = column_or_1d(y, warn=True)\n",
      "C:\\Users\\payal2.bhatia\\AppData\\Local\\Continuum\\anaconda3\\lib\\site-packages\\sklearn\\utils\\validation.py:724: DataConversionWarning: A column-vector y was passed when a 1d array was expected. Please change the shape of y to (n_samples, ), for example using ravel().\n",
      "  y = column_or_1d(y, warn=True)\n",
      "C:\\Users\\payal2.bhatia\\AppData\\Local\\Continuum\\anaconda3\\lib\\site-packages\\sklearn\\utils\\validation.py:724: DataConversionWarning: A column-vector y was passed when a 1d array was expected. Please change the shape of y to (n_samples, ), for example using ravel().\n",
      "  y = column_or_1d(y, warn=True)\n",
      "C:\\Users\\payal2.bhatia\\AppData\\Local\\Continuum\\anaconda3\\lib\\site-packages\\sklearn\\utils\\validation.py:724: DataConversionWarning: A column-vector y was passed when a 1d array was expected. Please change the shape of y to (n_samples, ), for example using ravel().\n",
      "  y = column_or_1d(y, warn=True)\n",
      "C:\\Users\\payal2.bhatia\\AppData\\Local\\Continuum\\anaconda3\\lib\\site-packages\\sklearn\\utils\\validation.py:724: DataConversionWarning: A column-vector y was passed when a 1d array was expected. Please change the shape of y to (n_samples, ), for example using ravel().\n",
      "  y = column_or_1d(y, warn=True)\n",
      "C:\\Users\\payal2.bhatia\\AppData\\Local\\Continuum\\anaconda3\\lib\\site-packages\\sklearn\\utils\\validation.py:724: DataConversionWarning: A column-vector y was passed when a 1d array was expected. Please change the shape of y to (n_samples, ), for example using ravel().\n",
      "  y = column_or_1d(y, warn=True)\n",
      "C:\\Users\\payal2.bhatia\\AppData\\Local\\Continuum\\anaconda3\\lib\\site-packages\\sklearn\\utils\\validation.py:724: DataConversionWarning: A column-vector y was passed when a 1d array was expected. Please change the shape of y to (n_samples, ), for example using ravel().\n",
      "  y = column_or_1d(y, warn=True)\n",
      "C:\\Users\\payal2.bhatia\\AppData\\Local\\Continuum\\anaconda3\\lib\\site-packages\\sklearn\\utils\\validation.py:724: DataConversionWarning: A column-vector y was passed when a 1d array was expected. Please change the shape of y to (n_samples, ), for example using ravel().\n",
      "  y = column_or_1d(y, warn=True)\n",
      "C:\\Users\\payal2.bhatia\\AppData\\Local\\Continuum\\anaconda3\\lib\\site-packages\\sklearn\\utils\\validation.py:724: DataConversionWarning: A column-vector y was passed when a 1d array was expected. Please change the shape of y to (n_samples, ), for example using ravel().\n",
      "  y = column_or_1d(y, warn=True)\n",
      "C:\\Users\\payal2.bhatia\\AppData\\Local\\Continuum\\anaconda3\\lib\\site-packages\\sklearn\\utils\\validation.py:724: DataConversionWarning: A column-vector y was passed when a 1d array was expected. Please change the shape of y to (n_samples, ), for example using ravel().\n",
      "  y = column_or_1d(y, warn=True)\n",
      "C:\\Users\\payal2.bhatia\\AppData\\Local\\Continuum\\anaconda3\\lib\\site-packages\\sklearn\\utils\\validation.py:724: DataConversionWarning: A column-vector y was passed when a 1d array was expected. Please change the shape of y to (n_samples, ), for example using ravel().\n",
      "  y = column_or_1d(y, warn=True)\n",
      "C:\\Users\\payal2.bhatia\\AppData\\Local\\Continuum\\anaconda3\\lib\\site-packages\\sklearn\\utils\\validation.py:724: DataConversionWarning: A column-vector y was passed when a 1d array was expected. Please change the shape of y to (n_samples, ), for example using ravel().\n",
      "  y = column_or_1d(y, warn=True)\n",
      "C:\\Users\\payal2.bhatia\\AppData\\Local\\Continuum\\anaconda3\\lib\\site-packages\\sklearn\\utils\\validation.py:724: DataConversionWarning: A column-vector y was passed when a 1d array was expected. Please change the shape of y to (n_samples, ), for example using ravel().\n",
      "  y = column_or_1d(y, warn=True)\n",
      "C:\\Users\\payal2.bhatia\\AppData\\Local\\Continuum\\anaconda3\\lib\\site-packages\\sklearn\\utils\\validation.py:724: DataConversionWarning: A column-vector y was passed when a 1d array was expected. Please change the shape of y to (n_samples, ), for example using ravel().\n",
      "  y = column_or_1d(y, warn=True)\n",
      "C:\\Users\\payal2.bhatia\\AppData\\Local\\Continuum\\anaconda3\\lib\\site-packages\\sklearn\\utils\\validation.py:724: DataConversionWarning: A column-vector y was passed when a 1d array was expected. Please change the shape of y to (n_samples, ), for example using ravel().\n",
      "  y = column_or_1d(y, warn=True)\n",
      "C:\\Users\\payal2.bhatia\\AppData\\Local\\Continuum\\anaconda3\\lib\\site-packages\\sklearn\\utils\\validation.py:724: DataConversionWarning: A column-vector y was passed when a 1d array was expected. Please change the shape of y to (n_samples, ), for example using ravel().\n",
      "  y = column_or_1d(y, warn=True)\n",
      "C:\\Users\\payal2.bhatia\\AppData\\Local\\Continuum\\anaconda3\\lib\\site-packages\\sklearn\\utils\\validation.py:724: DataConversionWarning: A column-vector y was passed when a 1d array was expected. Please change the shape of y to (n_samples, ), for example using ravel().\n",
      "  y = column_or_1d(y, warn=True)\n",
      "C:\\Users\\payal2.bhatia\\AppData\\Local\\Continuum\\anaconda3\\lib\\site-packages\\sklearn\\utils\\validation.py:724: DataConversionWarning: A column-vector y was passed when a 1d array was expected. Please change the shape of y to (n_samples, ), for example using ravel().\n",
      "  y = column_or_1d(y, warn=True)\n"
     ]
    },
    {
     "name": "stderr",
     "output_type": "stream",
     "text": [
      "C:\\Users\\payal2.bhatia\\AppData\\Local\\Continuum\\anaconda3\\lib\\site-packages\\sklearn\\utils\\validation.py:724: DataConversionWarning: A column-vector y was passed when a 1d array was expected. Please change the shape of y to (n_samples, ), for example using ravel().\n",
      "  y = column_or_1d(y, warn=True)\n",
      "C:\\Users\\payal2.bhatia\\AppData\\Local\\Continuum\\anaconda3\\lib\\site-packages\\sklearn\\utils\\validation.py:724: DataConversionWarning: A column-vector y was passed when a 1d array was expected. Please change the shape of y to (n_samples, ), for example using ravel().\n",
      "  y = column_or_1d(y, warn=True)\n",
      "C:\\Users\\payal2.bhatia\\AppData\\Local\\Continuum\\anaconda3\\lib\\site-packages\\sklearn\\utils\\validation.py:724: DataConversionWarning: A column-vector y was passed when a 1d array was expected. Please change the shape of y to (n_samples, ), for example using ravel().\n",
      "  y = column_or_1d(y, warn=True)\n",
      "C:\\Users\\payal2.bhatia\\AppData\\Local\\Continuum\\anaconda3\\lib\\site-packages\\sklearn\\utils\\validation.py:724: DataConversionWarning: A column-vector y was passed when a 1d array was expected. Please change the shape of y to (n_samples, ), for example using ravel().\n",
      "  y = column_or_1d(y, warn=True)\n",
      "C:\\Users\\payal2.bhatia\\AppData\\Local\\Continuum\\anaconda3\\lib\\site-packages\\sklearn\\utils\\validation.py:724: DataConversionWarning: A column-vector y was passed when a 1d array was expected. Please change the shape of y to (n_samples, ), for example using ravel().\n",
      "  y = column_or_1d(y, warn=True)\n",
      "C:\\Users\\payal2.bhatia\\AppData\\Local\\Continuum\\anaconda3\\lib\\site-packages\\sklearn\\utils\\validation.py:724: DataConversionWarning: A column-vector y was passed when a 1d array was expected. Please change the shape of y to (n_samples, ), for example using ravel().\n",
      "  y = column_or_1d(y, warn=True)\n",
      "C:\\Users\\payal2.bhatia\\AppData\\Local\\Continuum\\anaconda3\\lib\\site-packages\\sklearn\\utils\\validation.py:724: DataConversionWarning: A column-vector y was passed when a 1d array was expected. Please change the shape of y to (n_samples, ), for example using ravel().\n",
      "  y = column_or_1d(y, warn=True)\n"
     ]
    }
   ],
   "source": [
    "from sklearn.model_selection import KFold, StratifiedKFold, cross_val_score \n",
    "\n",
    "from sklearn.naive_bayes import GaussianNB\n",
    "\n",
    "\n",
    "metric_names = ['f1', 'roc_auc', 'average_precision', 'accuracy', 'precision', 'recall']\n",
    "scores_df = pd.DataFrame(index=metric_names, columns=['Random-CV', 'Stratified-CV']) # to store the scores\n",
    "cv = KFold(n_splits=3)\n",
    "scv = StratifiedKFold(n_splits=3)\n",
    "clf = GaussianNB()\n",
    "for metric in metric_names:\n",
    "    score1 = cross_val_score(clf, X_train, y_train, scoring=metric, cv=cv).mean()\n",
    "    score2 = cross_val_score(clf, X_train, y_train, scoring=metric, cv=scv).mean()\n",
    "    scores_df.loc[metric] = [score1, score2]\n",
    "    "
   ]
  },
  {
   "cell_type": "code",
   "execution_count": 96,
   "metadata": {},
   "outputs": [
    {
     "data": {
      "text/html": [
       "<div>\n",
       "<style scoped>\n",
       "    .dataframe tbody tr th:only-of-type {\n",
       "        vertical-align: middle;\n",
       "    }\n",
       "\n",
       "    .dataframe tbody tr th {\n",
       "        vertical-align: top;\n",
       "    }\n",
       "\n",
       "    .dataframe thead th {\n",
       "        text-align: right;\n",
       "    }\n",
       "</style>\n",
       "<table border=\"1\" class=\"dataframe\">\n",
       "  <thead>\n",
       "    <tr style=\"text-align: right;\">\n",
       "      <th></th>\n",
       "      <th>Random-CV</th>\n",
       "      <th>Stratified-CV</th>\n",
       "    </tr>\n",
       "  </thead>\n",
       "  <tbody>\n",
       "    <tr>\n",
       "      <th>f1</th>\n",
       "      <td>0.0115502</td>\n",
       "      <td>0.0114162</td>\n",
       "    </tr>\n",
       "    <tr>\n",
       "      <th>roc_auc</th>\n",
       "      <td>0.677588</td>\n",
       "      <td>0.676885</td>\n",
       "    </tr>\n",
       "    <tr>\n",
       "      <th>average_precision</th>\n",
       "      <td>0.014717</td>\n",
       "      <td>0.0145796</td>\n",
       "    </tr>\n",
       "    <tr>\n",
       "      <th>accuracy</th>\n",
       "      <td>0.994003</td>\n",
       "      <td>0.994003</td>\n",
       "    </tr>\n",
       "    <tr>\n",
       "      <th>precision</th>\n",
       "      <td>0.0629386</td>\n",
       "      <td>0.0629386</td>\n",
       "    </tr>\n",
       "    <tr>\n",
       "      <th>recall</th>\n",
       "      <td>0.00650559</td>\n",
       "      <td>0.00646558</td>\n",
       "    </tr>\n",
       "  </tbody>\n",
       "</table>\n",
       "</div>"
      ],
      "text/plain": [
       "                    Random-CV Stratified-CV\n",
       "f1                  0.0115502     0.0114162\n",
       "roc_auc              0.677588      0.676885\n",
       "average_precision    0.014717     0.0145796\n",
       "accuracy             0.994003      0.994003\n",
       "precision           0.0629386     0.0629386\n",
       "recall             0.00650559    0.00646558"
      ]
     },
     "execution_count": 96,
     "metadata": {},
     "output_type": "execute_result"
    }
   ],
   "source": [
    "scores_df"
   ]
  },
  {
   "cell_type": "code",
   "execution_count": null,
   "metadata": {},
   "outputs": [],
   "source": [
    "y, X = dmatrices( 'y_train ~ X_train', data=pd.concat([X_train, y_train], axis=1), return_type='dataframe')\n",
    "mod = sm.Logit(y, X)\n",
    "res = mod.fit()\n",
    "print (res.summary())\n"
   ]
  },
  {
   "cell_type": "code",
   "execution_count": 142,
   "metadata": {},
   "outputs": [
    {
     "data": {
      "text/plain": [
       "Index(['loan_id', 'interest_rate', 'unpaid_principal_bal', 'loan_term',\n",
       "       'loan_to_value', 'number_of_borrowers', 'debt_to_income_ratio',\n",
       "       'borrower_credit_score', 'insurance_percent',\n",
       "       'co-borrower_credit_score', 'm1', 'm2', 'm3', 'm4', 'm5', 'm6', 'm7',\n",
       "       'm8', 'm9', 'm10', 'm11', 'm12', 'm13', 'LTV_scale_10', 'DTI_scale_10',\n",
       "       '1st pd afterDays', 'logodd_m13'],\n",
       "      dtype='object')"
      ]
     },
     "execution_count": 142,
     "metadata": {},
     "output_type": "execute_result"
    }
   ],
   "source": [
    "num_data.columns"
   ]
  },
  {
   "cell_type": "code",
   "execution_count": 127,
   "metadata": {},
   "outputs": [
    {
     "data": {
      "text/plain": [
       "(0.005510214690440297,\n",
       " 0.9944897853095597,\n",
       " 0.005540745387068109,\n",
       " -5.195626240871314,\n",
       " 5.195626240871314)"
      ]
     },
     "execution_count": 127,
     "metadata": {},
     "output_type": "execute_result"
    }
   ],
   "source": [
    "636/115422, 1-636/115422, (636/115422)/(1-636/115422), np.log((636/115422)/(1-636/115422)), np.log((1-636/115422)/(636/115422))\n"
   ]
  },
  {
   "cell_type": "code",
   "execution_count": 143,
   "metadata": {},
   "outputs": [
    {
     "data": {
      "text/plain": [
       "<matplotlib.axes._subplots.AxesSubplot at 0x207166beba8>"
      ]
     },
     "execution_count": 143,
     "metadata": {},
     "output_type": "execute_result"
    },
    {
     "data": {
      "image/png": "[encoded data removed]",
      "text/plain": [
       "<Figure size 432x288 with 1 Axes>"
      ]
     },
     "metadata": {
      "needs_background": "light"
     },
     "output_type": "display_data"
    }
   ],
   "source": [
    "sns.scatterplot(num_data[\"interest_rate\"],num_data[\"logodd_m13\"] )"
   ]
  },
  {
   "cell_type": "code",
   "execution_count": 144,
   "metadata": {},
   "outputs": [
    {
     "data": {
      "text/plain": [
       "<matplotlib.axes._subplots.AxesSubplot at 0x20714ce3748>"
      ]
     },
     "execution_count": 144,
     "metadata": {},
     "output_type": "execute_result"
    },
    {
     "data": {
      "image/png": "[encoded data removed]",
      "text/plain": [
       "<Figure size 432x288 with 1 Axes>"
      ]
     },
     "metadata": {
      "needs_background": "light"
     },
     "output_type": "display_data"
    }
   ],
   "source": [
    "sns.scatterplot(num_data[\"borrower_credit_score\"],num_data[\"logodd_m13\"] )"
   ]
  },
  {
   "cell_type": "code",
   "execution_count": 10,
   "metadata": {},
   "outputs": [
    {
     "data": {
      "text/html": [
       "        <script type=\"text/javascript\">\n",
       "        window.PlotlyConfig = {MathJaxConfig: 'local'};\n",
       "        if (window.MathJax) {MathJax.Hub.Config({SVG: {font: \"STIX-Web\"}});}\n",
       "        if (typeof require !== 'undefined') {\n",
       "        require.undef(\"plotly\");\n",
       "        requirejs.config({\n",
       "            paths: {\n",
       "                'plotly': ['https://cdn.plot.ly/plotly-latest.min']\n",
       "            }\n",
       "        });\n",
       "        require(['plotly'], function(Plotly) {\n",
       "            window._Plotly = Plotly;\n",
       "        });\n",
       "        }\n",
       "        </script>\n",
       "        "
      ]
     },
     "metadata": {},
     "output_type": "display_data"
    }
   ],
   "source": [
    "import plotly.offline as py\n",
    "py.init_notebook_mode(connected=True)\n",
    "import plotly.graph_objs as go\n",
    "from plotly import tools\n",
    "\n",
    "from sklearn.preprocessing import StandardScaler\n",
    "from sklearn.svm import SVC\n",
    "from sklearn.model_selection import train_test_split\n",
    "from sklearn.preprocessing import StandardScaler\n",
    "from sklearn.datasets import make_moons, make_circles, make_classification, make_blobs, make_checkerboard\n",
    "from sklearn.neighbors import KNeighborsClassifier\n",
    "from sklearn.cluster import KMeans\n",
    "from sklearn.svm import SVC\n",
    "from sklearn.tree import DecisionTreeClassifier\n",
    "from sklearn.ensemble import (RandomForestClassifier, AdaBoostClassifier, \n",
    "                              ExtraTreesClassifier, GradientBoostingClassifier, BaggingClassifier)\n",
    "from sklearn.naive_bayes import GaussianNB\n",
    "from sklearn.linear_model import LogisticRegression"
   ]
  },
  {
   "cell_type": "code",
   "execution_count": 11,
   "metadata": {},
   "outputs": [],
   "source": [
    "from sklearn.utils import compute_sample_weight\n"
   ]
  },
  {
   "cell_type": "code",
   "execution_count": 16,
   "metadata": {},
   "outputs": [],
   "source": [
    "from sklearn.utils import shuffle\n",
    "num_data = shuffle(num_data)\n",
    "x=num_data\n",
    "x[\"m13\"].value_counts()/x.shape[0]\n",
    "X, y=x.drop(\"m13\", axis=1).iloc[:,1:3], x[\"m13\"]\n"
   ]
  },
  {
   "cell_type": "code",
   "execution_count": 17,
   "metadata": {},
   "outputs": [
    {
     "data": {
      "text/plain": [
       "143.000143000143"
      ]
     },
     "execution_count": 17,
     "metadata": {},
     "output_type": "execute_result"
    }
   ],
   "source": [
    "1/0.006993"
   ]
  },
  {
   "cell_type": "code",
   "execution_count": 18,
   "metadata": {},
   "outputs": [],
   "source": [
    "names = [\"Decision Tree\",\"Random Forest\", \"ExtraTrees\"]\n",
    "# Creating a Python List with our three Tree classifiers\n",
    "treeclassifiers = [\n",
    "    DecisionTreeClassifier(max_depth=5, class_weight={0:1 , 1:183 }),\n",
    "    RandomForestClassifier(max_depth=5, n_estimators=20, max_features=1, class_weight={0:1 , 1:183 }),\n",
    "    ExtraTreesClassifier(class_weight={0:1 , 1:183 })]"
   ]
  },
  {
   "cell_type": "code",
   "execution_count": 19,
   "metadata": {},
   "outputs": [
    {
     "name": "stderr",
     "output_type": "stream",
     "text": [
      "C:\\Users\\payal2.bhatia\\AppData\\Local\\Continuum\\anaconda3\\lib\\site-packages\\sklearn\\ensemble\\forest.py:245: FutureWarning:\n",
      "\n",
      "The default value of n_estimators will change from 10 in version 0.20 to 100 in 0.22.\n",
      "\n"
     ]
    },
    {
     "data": {
      "image/png": "[encoded data removed]",
      "text/plain": [
       "<Figure size 864x720 with 4 Axes>"
      ]
     },
     "metadata": {},
     "output_type": "display_data"
    }
   ],
   "source": [
    "from matplotlib.colors import ListedColormap\n",
    "figure = plt.figure(figsize=(12, 10))\n",
    "h = 0.02\n",
    "i = 1\n",
    "# iterate over datasets\n",
    "# for ds in datasets:\n",
    "#     # preprocess dataset, split into training and test part\n",
    "#     X, y = ds\n",
    "X = StandardScaler().fit_transform(X)\n",
    "X_train, X_test, y_train, y_test = train_test_split(X, y, test_size=.4)\n",
    "\n",
    "x_min, x_max = X[:, 0].min() - .5, X[:, 0].max() + .5\n",
    "y_min, y_max = X[:, 1].min() - .5, X[:, 1].max() + .5\n",
    "xx, yy = np.meshgrid(np.arange(x_min, x_max, h),\n",
    "                     np.arange(y_min, y_max, h))\n",
    "\n",
    "# just plot the dataset first\n",
    "cm = plt.cm.jet\n",
    "cm_bright = ListedColormap(['#FF0000', '#0000FF'])\n",
    "ax = plt.subplot(1, len(treeclassifiers) + 1, i)\n",
    "# Plot the training points\n",
    "ax.scatter(X_train[:, 0], X_train[:, 1], c=y_train, cmap=cm_bright, alpha=0.7)\n",
    "# and testing points\n",
    "#ax.scatter(X_test[:, 0], X_test[:, 1], c=y_test, cmap=cm_bright, alpha=0.6)\n",
    "ax.set_xlim(xx.min(), xx.max())\n",
    "ax.set_ylim(yy.min(), yy.max())\n",
    "ax.set_xticks(())\n",
    "ax.set_yticks(())\n",
    "i += 1\n",
    "\n",
    "# iterate over classifiers\n",
    "for name, clf in zip(names, treeclassifiers):\n",
    "    ax = plt.subplot(1, len(treeclassifiers) + 1, i)\n",
    "    clf.fit(X_train, y_train)\n",
    "    score = clf.score(X_test, y_test)\n",
    "\n",
    "    # Plot the decision boundary. For that, we will assign a color to each\n",
    "    # point in the mesh [x_min, m_max]x[y_min, y_max].\n",
    "    if hasattr(clf, \"decision_function\"):\n",
    "        Z = clf.decision_function(np.c_[xx.ravel(), yy.ravel()])\n",
    "    else:\n",
    "        Z = clf.predict_proba(np.c_[xx.ravel(), yy.ravel()])[:, 1]\n",
    "\n",
    "    # Put the result into a color plot\n",
    "    Z = Z.reshape(xx.shape)\n",
    "    ax.contourf(xx, yy, Z, cmap=plt.cm.jet, alpha=.8)\n",
    "\n",
    "    # Plot also the training points\n",
    "    ax.scatter(X_train[:, 0], X_train[:, 1], c=y_train, cmap=cm_bright, alpha=0.6, linewidths=0.6, edgecolors=\"white\")\n",
    "    # and testing points\n",
    "    #ax.scatter(X_test[:, 0], X_test[:, 1], c=y_test, cmap=cm_bright,\n",
    "               #alpha=0.6)\n",
    "\n",
    "    ax.set_xlim(xx.min(), xx.max())\n",
    "    ax.set_ylim(yy.min(), yy.max())\n",
    "    ax.set_xticks(())\n",
    "    ax.set_yticks(())\n",
    "    ax.set_title(name)\n",
    "    ax.text(xx.max() - .3, yy.min() + .3, ('%.2f' % score).lstrip('0'),\n",
    "            size=15, horizontalalignment='right')\n",
    "    i += 1\n",
    "\n",
    "figure.subplots_adjust(left=.02, right=.98)\n",
    "plt.show()"
   ]
  },
  {
   "cell_type": "code",
   "execution_count": 46,
   "metadata": {},
   "outputs": [
    {
     "data": {
      "text/html": [
       "<div>\n",
       "<style scoped>\n",
       "    .dataframe tbody tr th:only-of-type {\n",
       "        vertical-align: middle;\n",
       "    }\n",
       "\n",
       "    .dataframe tbody tr th {\n",
       "        vertical-align: top;\n",
       "    }\n",
       "\n",
       "    .dataframe thead th {\n",
       "        text-align: right;\n",
       "    }\n",
       "</style>\n",
       "<table border=\"1\" class=\"dataframe\">\n",
       "  <thead>\n",
       "    <tr style=\"text-align: right;\">\n",
       "      <th></th>\n",
       "      <th>loan_id</th>\n",
       "      <th>source</th>\n",
       "      <th>financial_institution</th>\n",
       "      <th>interest_rate</th>\n",
       "      <th>unpaid_principal_bal</th>\n",
       "      <th>loan_term</th>\n",
       "      <th>origination_date</th>\n",
       "      <th>first_payment_date</th>\n",
       "      <th>loan_to_value</th>\n",
       "      <th>number_of_borrowers</th>\n",
       "      <th>...</th>\n",
       "      <th>m11</th>\n",
       "      <th>m12</th>\n",
       "      <th>m13</th>\n",
       "      <th>loan_term_labels</th>\n",
       "      <th>LTV_scale_10</th>\n",
       "      <th>Risk_Level</th>\n",
       "      <th>LTV_quantile_range</th>\n",
       "      <th>LTV_quantile_label</th>\n",
       "      <th>DTI_scale_10</th>\n",
       "      <th>1st pd afterDays</th>\n",
       "    </tr>\n",
       "  </thead>\n",
       "  <tbody>\n",
       "    <tr>\n",
       "      <th>0</th>\n",
       "      <td>268055008619</td>\n",
       "      <td>Z</td>\n",
       "      <td>Turner, Baldwin and Rhodes</td>\n",
       "      <td>4.250</td>\n",
       "      <td>214000</td>\n",
       "      <td>360</td>\n",
       "      <td>Mar</td>\n",
       "      <td>May</td>\n",
       "      <td>95</td>\n",
       "      <td>1.0</td>\n",
       "      <td>...</td>\n",
       "      <td>0</td>\n",
       "      <td>0</td>\n",
       "      <td>1</td>\n",
       "      <td>330-360</td>\n",
       "      <td>10.0</td>\n",
       "      <td>High Risk</td>\n",
       "      <td>(80.0, 97.0]</td>\n",
       "      <td>75-100Q</td>\n",
       "      <td>2.0</td>\n",
       "      <td>61</td>\n",
       "    </tr>\n",
       "    <tr>\n",
       "      <th>1</th>\n",
       "      <td>672831657627</td>\n",
       "      <td>Y</td>\n",
       "      <td>Swanson, Newton and Miller</td>\n",
       "      <td>4.875</td>\n",
       "      <td>144000</td>\n",
       "      <td>360</td>\n",
       "      <td>Jan</td>\n",
       "      <td>Mar</td>\n",
       "      <td>72</td>\n",
       "      <td>1.0</td>\n",
       "      <td>...</td>\n",
       "      <td>1</td>\n",
       "      <td>0</td>\n",
       "      <td>1</td>\n",
       "      <td>330-360</td>\n",
       "      <td>7.0</td>\n",
       "      <td>Good Risk</td>\n",
       "      <td>(57.0, 72.0]</td>\n",
       "      <td>25-50Q</td>\n",
       "      <td>4.0</td>\n",
       "      <td>60</td>\n",
       "    </tr>\n",
       "  </tbody>\n",
       "</table>\n",
       "<p>2 rows × 36 columns</p>\n",
       "</div>"
      ],
      "text/plain": [
       "        loan_id source       financial_institution  interest_rate  \\\n",
       "0  268055008619      Z  Turner, Baldwin and Rhodes          4.250   \n",
       "1  672831657627      Y  Swanson, Newton and Miller          4.875   \n",
       "\n",
       "   unpaid_principal_bal  loan_term origination_date first_payment_date  \\\n",
       "0                214000        360              Mar                May   \n",
       "1                144000        360              Jan                Mar   \n",
       "\n",
       "   loan_to_value  number_of_borrowers  ...  m11  m12 m13  loan_term_labels  \\\n",
       "0             95                  1.0  ...    0    0   1           330-360   \n",
       "1             72                  1.0  ...    1    0   1           330-360   \n",
       "\n",
       "   LTV_scale_10  Risk_Level  LTV_quantile_range  LTV_quantile_label  \\\n",
       "0          10.0   High Risk        (80.0, 97.0]             75-100Q   \n",
       "1           7.0   Good Risk        (57.0, 72.0]              25-50Q   \n",
       "\n",
       "   DTI_scale_10  1st pd afterDays  \n",
       "0           2.0                61  \n",
       "1           4.0                60  \n",
       "\n",
       "[2 rows x 36 columns]"
      ]
     },
     "execution_count": 46,
     "metadata": {},
     "output_type": "execute_result"
    }
   ],
   "source": [
    "train_data.head(2)"
   ]
  },
  {
   "cell_type": "code",
   "execution_count": 59,
   "metadata": {},
   "outputs": [],
   "source": [
    "cat_data=train_data.filter(cat_columns)"
   ]
  },
  {
   "cell_type": "code",
   "execution_count": 60,
   "metadata": {},
   "outputs": [
    {
     "data": {
      "text/html": [
       "<div>\n",
       "<style scoped>\n",
       "    .dataframe tbody tr th:only-of-type {\n",
       "        vertical-align: middle;\n",
       "    }\n",
       "\n",
       "    .dataframe tbody tr th {\n",
       "        vertical-align: top;\n",
       "    }\n",
       "\n",
       "    .dataframe thead th {\n",
       "        text-align: right;\n",
       "    }\n",
       "</style>\n",
       "<table border=\"1\" class=\"dataframe\">\n",
       "  <thead>\n",
       "    <tr style=\"text-align: right;\">\n",
       "      <th></th>\n",
       "      <th>source</th>\n",
       "      <th>financial_institution</th>\n",
       "      <th>origination_date</th>\n",
       "      <th>first_payment_date</th>\n",
       "      <th>loan_purpose</th>\n",
       "      <th>insurance_type</th>\n",
       "      <th>loan_term_labels</th>\n",
       "      <th>Risk_Level</th>\n",
       "      <th>LTV_quantile_range</th>\n",
       "      <th>LTV_quantile_label</th>\n",
       "    </tr>\n",
       "  </thead>\n",
       "  <tbody>\n",
       "    <tr>\n",
       "      <th>0</th>\n",
       "      <td>Z</td>\n",
       "      <td>Turner, Baldwin and Rhodes</td>\n",
       "      <td>Mar</td>\n",
       "      <td>May</td>\n",
       "      <td>C86</td>\n",
       "      <td>0.0</td>\n",
       "      <td>330-360</td>\n",
       "      <td>High Risk</td>\n",
       "      <td>(80.0, 97.0]</td>\n",
       "      <td>75-100Q</td>\n",
       "    </tr>\n",
       "    <tr>\n",
       "      <th>1</th>\n",
       "      <td>Y</td>\n",
       "      <td>Swanson, Newton and Miller</td>\n",
       "      <td>Jan</td>\n",
       "      <td>Mar</td>\n",
       "      <td>B12</td>\n",
       "      <td>0.0</td>\n",
       "      <td>330-360</td>\n",
       "      <td>Good Risk</td>\n",
       "      <td>(57.0, 72.0]</td>\n",
       "      <td>25-50Q</td>\n",
       "    </tr>\n",
       "  </tbody>\n",
       "</table>\n",
       "</div>"
      ],
      "text/plain": [
       "  source       financial_institution origination_date first_payment_date  \\\n",
       "0      Z  Turner, Baldwin and Rhodes              Mar                May   \n",
       "1      Y  Swanson, Newton and Miller              Jan                Mar   \n",
       "\n",
       "  loan_purpose  insurance_type loan_term_labels Risk_Level LTV_quantile_range  \\\n",
       "0          C86             0.0          330-360  High Risk       (80.0, 97.0]   \n",
       "1          B12             0.0          330-360  Good Risk       (57.0, 72.0]   \n",
       "\n",
       "  LTV_quantile_label  \n",
       "0            75-100Q  \n",
       "1             25-50Q  "
      ]
     },
     "execution_count": 60,
     "metadata": {},
     "output_type": "execute_result"
    }
   ],
   "source": [
    "cat_data.head(2)"
   ]
  },
  {
   "cell_type": "code",
   "execution_count": 61,
   "metadata": {},
   "outputs": [
    {
     "data": {
      "text/plain": [
       "array(['Feb', 'Jan', 'Mar'], dtype=object)"
      ]
     },
     "execution_count": 61,
     "metadata": {},
     "output_type": "execute_result"
    }
   ],
   "source": [
    "np.unique(train_data[\"origination_date\"])"
   ]
  },
  {
   "cell_type": "code",
   "execution_count": 62,
   "metadata": {},
   "outputs": [],
   "source": [
    "dict1={'Feb':2, 'Jan':1, 'Mar':3}"
   ]
  },
  {
   "cell_type": "code",
   "execution_count": 63,
   "metadata": {},
   "outputs": [],
   "source": [
    "train_data[\"origination_date\"]=train_data[\"origination_date\"].map(dict1)"
   ]
  },
  {
   "cell_type": "code",
   "execution_count": 64,
   "metadata": {},
   "outputs": [
    {
     "data": {
      "text/plain": [
       "array(['Apr', 'Feb', 'Mar', 'May'], dtype=object)"
      ]
     },
     "execution_count": 64,
     "metadata": {},
     "output_type": "execute_result"
    }
   ],
   "source": [
    "np.unique(train_data[\"first_payment_date\"])"
   ]
  },
  {
   "cell_type": "code",
   "execution_count": 65,
   "metadata": {},
   "outputs": [],
   "source": [
    "dict2={'Apr':4, 'Feb': 2, 'May':5, 'Mar':3}"
   ]
  },
  {
   "cell_type": "code",
   "execution_count": 66,
   "metadata": {},
   "outputs": [],
   "source": [
    "train_data[\"first_payment_date\"]=train_data[\"first_payment_date\"].map(dict1)"
   ]
  },
  {
   "cell_type": "code",
   "execution_count": 67,
   "metadata": {},
   "outputs": [
    {
     "data": {
      "text/plain": [
       "array(['120-150', '150-180', '180-210', '210-240', '240-270', '270-300',\n",
       "       '300-330', '330-360', '60-90', '90-120'], dtype=object)"
      ]
     },
     "execution_count": 67,
     "metadata": {},
     "output_type": "execute_result"
    }
   ],
   "source": [
    "np.unique(train_data[\"loan_term_labels\"])"
   ]
  },
  {
   "cell_type": "code",
   "execution_count": 68,
   "metadata": {},
   "outputs": [],
   "source": [
    "loan_labels=np.array(train_data[\"loan_term_labels\"])"
   ]
  },
  {
   "cell_type": "code",
   "execution_count": 75,
   "metadata": {},
   "outputs": [
    {
     "data": {
      "text/plain": [
       "array(['120-150', '150-180', '180-210', '210-240', '240-270', '270-300',\n",
       "       '300-330', '330-360', '60-90', '90-120'], dtype=object)"
      ]
     },
     "execution_count": 75,
     "metadata": {},
     "output_type": "execute_result"
    }
   ],
   "source": [
    "np.unique(loan_labels)\n"
   ]
  },
  {
   "cell_type": "code",
   "execution_count": 76,
   "metadata": {},
   "outputs": [],
   "source": [
    "dict3={'120-150':3, '150-180':4, '180-210':5, '210-240':6, '240-270':7, '270-300':8,\n",
    "       '300-330':9, '330-360':10, '60-90':1, '90-120':2}"
   ]
  },
  {
   "cell_type": "code",
   "execution_count": 77,
   "metadata": {},
   "outputs": [],
   "source": [
    "train_data[\"loan_term_labels\"]=train_data[\"loan_term_labels\"].map(dict3)"
   ]
  },
  {
   "cell_type": "code",
   "execution_count": 78,
   "metadata": {},
   "outputs": [],
   "source": [
    "from sklearn.preprocessing import OneHotEncoder, LabelEncoder"
   ]
  },
  {
   "cell_type": "code",
   "execution_count": 79,
   "metadata": {},
   "outputs": [],
   "source": [
    "le=LabelEncoder()"
   ]
  },
  {
   "cell_type": "code",
   "execution_count": 81,
   "metadata": {},
   "outputs": [
    {
     "data": {
      "text/plain": [
       "{0: 'X', 1: 'Y', 2: 'Z'}"
      ]
     },
     "execution_count": 81,
     "metadata": {},
     "output_type": "execute_result"
    }
   ],
   "source": [
    "source = le.fit_transform(train_data['source'])\n",
    "source_mappings = {index: label for index, label in enumerate(le.classes_)}\n",
    "source_mappings"
   ]
  },
  {
   "cell_type": "code",
   "execution_count": 84,
   "metadata": {},
   "outputs": [],
   "source": [
    "train_data[\"source\"]=source"
   ]
  },
  {
   "cell_type": "code",
   "execution_count": 85,
   "metadata": {},
   "outputs": [
    {
     "data": {
      "text/plain": [
       "{0: 'Anderson-Taylor',\n",
       " 1: 'Browning-Hart',\n",
       " 2: 'Chapman-Mcmahon',\n",
       " 3: 'Cole, Brooks and Vincent',\n",
       " 4: 'Edwards-Hoffman',\n",
       " 5: 'Martinez, Duffy and Bird',\n",
       " 6: 'Miller, Mcclure and Allen',\n",
       " 7: 'Nicholson Group',\n",
       " 8: 'OTHER',\n",
       " 9: 'Richards-Walters',\n",
       " 10: 'Richardson Ltd',\n",
       " 11: 'Romero, Woods and Johnson',\n",
       " 12: 'Sanchez, Hays and Wilkerson',\n",
       " 13: 'Sanchez-Robinson',\n",
       " 14: 'Suarez Inc',\n",
       " 15: 'Swanson, Newton and Miller',\n",
       " 16: 'Taylor, Hunt and Rodriguez',\n",
       " 17: 'Thornton-Davis',\n",
       " 18: 'Turner, Baldwin and Rhodes'}"
      ]
     },
     "execution_count": 85,
     "metadata": {},
     "output_type": "execute_result"
    }
   ],
   "source": [
    "finIns = le.fit_transform(train_data['financial_institution'])\n",
    "finIns_mappings = {index: label for index, label in enumerate(le.classes_)}\n",
    "finIns_mappings"
   ]
  },
  {
   "cell_type": "code",
   "execution_count": 86,
   "metadata": {},
   "outputs": [],
   "source": [
    "train_data[\"financial_institution\"]=finIns"
   ]
  },
  {
   "cell_type": "code",
   "execution_count": 88,
   "metadata": {},
   "outputs": [
    {
     "data": {
      "text/plain": [
       "{0: 'A23', 1: 'B12', 2: 'C86'}"
      ]
     },
     "execution_count": 88,
     "metadata": {},
     "output_type": "execute_result"
    }
   ],
   "source": [
    "loan_pur = le.fit_transform(train_data['loan_purpose'])\n",
    "loan_pur_mappings = {index: label for index, label in enumerate(le.classes_)}\n",
    "loan_pur_mappings"
   ]
  },
  {
   "cell_type": "code",
   "execution_count": null,
   "metadata": {},
   "outputs": [],
   "source": [
    "train_data[\"loan_purpose\"]=loan_pur"
   ]
  },
  {
   "cell_type": "markdown",
   "metadata": {},
   "source": [
    "### Removing Quasi-Constant features and constant features "
   ]
  },
  {
   "cell_type": "code",
   "execution_count": 39,
   "metadata": {},
   "outputs": [],
   "source": [
    "from sklearn.feature_selection import variance_threshold\n",
    "from sklearn.model_selection import train_test_split"
   ]
  },
  {
   "cell_type": "code",
   "execution_count": 12,
   "metadata": {},
   "outputs": [],
   "source": [
    "X= num_data.drop(\"m13\", axis=1)\n",
    "y=num_data[\"m13\"]"
   ]
  },
  {
   "cell_type": "code",
   "execution_count": 13,
   "metadata": {},
   "outputs": [],
   "source": [
    "x_train, x_test, y_train, y_test= train_test_split(X,y)"
   ]
  },
  {
   "cell_type": "code",
   "execution_count": 33,
   "metadata": {},
   "outputs": [],
   "source": [
    "constant_filter=variance_threshold.VarianceThreshold(threshold=0.003)"
   ]
  },
  {
   "cell_type": "code",
   "execution_count": 34,
   "metadata": {},
   "outputs": [
    {
     "data": {
      "text/plain": [
       "VarianceThreshold(threshold=0.003)"
      ]
     },
     "execution_count": 34,
     "metadata": {},
     "output_type": "execute_result"
    }
   ],
   "source": [
    "constant_filter.fit(x_train)"
   ]
  },
  {
   "cell_type": "code",
   "execution_count": 35,
   "metadata": {},
   "outputs": [
    {
     "data": {
      "text/plain": [
       "25"
      ]
     },
     "execution_count": 35,
     "metadata": {},
     "output_type": "execute_result"
    }
   ],
   "source": [
    "len(x_train.columns[constant_filter.get_support()])"
   ]
  },
  {
   "cell_type": "code",
   "execution_count": 36,
   "metadata": {},
   "outputs": [
    {
     "data": {
      "text/plain": [
       "['m2']"
      ]
     },
     "execution_count": 36,
     "metadata": {},
     "output_type": "execute_result"
    }
   ],
   "source": [
    "[i for i in x_train.columns if i not in x_train.columns[constant_filter.get_support()]]"
   ]
  },
  {
   "cell_type": "code",
   "execution_count": 38,
   "metadata": {},
   "outputs": [],
   "source": [
    "x_train=constant_filter.transform(x_train)\n",
    "x_test=constant_filter.transform(x_test)"
   ]
  },
  {
   "cell_type": "markdown",
   "metadata": {},
   "source": [
    "###### Quasi-constant features, as the name suggests, are the features that are almost constant."
   ]
  },
  {
   "cell_type": "code",
   "execution_count": 42,
   "metadata": {},
   "outputs": [
    {
     "data": {
      "text/plain": [
       "{'DTI_scale_10',\n",
       " 'LTV_scale_10',\n",
       " 'co-borrower_credit_score',\n",
       " 'm10',\n",
       " 'm11',\n",
       " 'm12',\n",
       " 'm9'}"
      ]
     },
     "execution_count": 42,
     "metadata": {},
     "output_type": "execute_result"
    }
   ],
   "source": [
    "correlation_features=set()\n",
    "correlation_matrix=num_data.corr()\n",
    "for i in range(len(correlation_matrix.columns)):\n",
    "    for j in range(i):\n",
    "        if(abs(correlation_matrix.iloc[i,j])>0.8):\n",
    "            correlation_features.add(correlation_matrix.columns[i])\n",
    "correlation_features"
   ]
  },
  {
   "cell_type": "code",
   "execution_count": 50,
   "metadata": {},
   "outputs": [
    {
     "data": {
      "text/html": [
       "<div>\n",
       "<style scoped>\n",
       "    .dataframe tbody tr th:only-of-type {\n",
       "        vertical-align: middle;\n",
       "    }\n",
       "\n",
       "    .dataframe tbody tr th {\n",
       "        vertical-align: top;\n",
       "    }\n",
       "\n",
       "    .dataframe thead th {\n",
       "        text-align: right;\n",
       "    }\n",
       "</style>\n",
       "<table border=\"1\" class=\"dataframe\">\n",
       "  <thead>\n",
       "    <tr style=\"text-align: right;\">\n",
       "      <th></th>\n",
       "      <th>co-borrower_credit_score</th>\n",
       "      <th>LTV_scale_10</th>\n",
       "      <th>DTI_scale_10</th>\n",
       "      <th>m11</th>\n",
       "      <th>m12</th>\n",
       "      <th>m9</th>\n",
       "      <th>m10</th>\n",
       "    </tr>\n",
       "  </thead>\n",
       "  <tbody>\n",
       "    <tr>\n",
       "      <th>0</th>\n",
       "      <td>0.0</td>\n",
       "      <td>10.0</td>\n",
       "      <td>2.0</td>\n",
       "      <td>0</td>\n",
       "      <td>0</td>\n",
       "      <td>0</td>\n",
       "      <td>0</td>\n",
       "    </tr>\n",
       "    <tr>\n",
       "      <th>1</th>\n",
       "      <td>0.0</td>\n",
       "      <td>7.0</td>\n",
       "      <td>4.0</td>\n",
       "      <td>1</td>\n",
       "      <td>0</td>\n",
       "      <td>0</td>\n",
       "      <td>0</td>\n",
       "    </tr>\n",
       "    <tr>\n",
       "      <th>2</th>\n",
       "      <td>0.0</td>\n",
       "      <td>5.0</td>\n",
       "      <td>3.0</td>\n",
       "      <td>0</td>\n",
       "      <td>0</td>\n",
       "      <td>0</td>\n",
       "      <td>0</td>\n",
       "    </tr>\n",
       "  </tbody>\n",
       "</table>\n",
       "</div>"
      ],
      "text/plain": [
       "   co-borrower_credit_score  LTV_scale_10  DTI_scale_10  m11  m12  m9  m10\n",
       "0                       0.0          10.0           2.0    0    0   0    0\n",
       "1                       0.0           7.0           4.0    1    0   0    0\n",
       "2                       0.0           5.0           3.0    0    0   0    0"
      ]
     },
     "execution_count": 50,
     "metadata": {},
     "output_type": "execute_result"
    }
   ],
   "source": [
    "num_data.filter(correlation_features).head(3)"
   ]
  },
  {
   "cell_type": "code",
   "execution_count": 69,
   "metadata": {},
   "outputs": [
    {
     "data": {
      "text/plain": [
       "Int64Index([10779, 25955, 30552, 73689, 100484, 103645], dtype='int64')"
      ]
     },
     "execution_count": 69,
     "metadata": {},
     "output_type": "execute_result"
    }
   ],
   "source": [
    "num_data[num_data.filter(['m9', 'm10','m11','m12']).all(1)].filter(['m9', 'm10','m11','m12', \"m13\"]).tail(6).index"
   ]
  },
  {
   "cell_type": "code",
   "execution_count": 72,
   "metadata": {},
   "outputs": [
    {
     "data": {
      "text/html": [
       "<div>\n",
       "<style scoped>\n",
       "    .dataframe tbody tr th:only-of-type {\n",
       "        vertical-align: middle;\n",
       "    }\n",
       "\n",
       "    .dataframe tbody tr th {\n",
       "        vertical-align: top;\n",
       "    }\n",
       "\n",
       "    .dataframe thead th {\n",
       "        text-align: right;\n",
       "    }\n",
       "</style>\n",
       "<table border=\"1\" class=\"dataframe\">\n",
       "  <thead>\n",
       "    <tr style=\"text-align: right;\">\n",
       "      <th></th>\n",
       "      <th>source</th>\n",
       "      <th>financial_institution</th>\n",
       "      <th>interest_rate</th>\n",
       "      <th>unpaid_principal_bal</th>\n",
       "      <th>loan_term</th>\n",
       "      <th>origination_date</th>\n",
       "      <th>first_payment_date</th>\n",
       "      <th>loan_to_value</th>\n",
       "    </tr>\n",
       "  </thead>\n",
       "  <tbody>\n",
       "    <tr>\n",
       "      <th>10779</th>\n",
       "      <td>X</td>\n",
       "      <td>OTHER</td>\n",
       "      <td>4.125</td>\n",
       "      <td>79000</td>\n",
       "      <td>360</td>\n",
       "      <td>Feb</td>\n",
       "      <td>Apr</td>\n",
       "      <td>64</td>\n",
       "    </tr>\n",
       "    <tr>\n",
       "      <th>25955</th>\n",
       "      <td>X</td>\n",
       "      <td>Romero, Woods and Johnson</td>\n",
       "      <td>4.250</td>\n",
       "      <td>157000</td>\n",
       "      <td>240</td>\n",
       "      <td>Jan</td>\n",
       "      <td>Mar</td>\n",
       "      <td>50</td>\n",
       "    </tr>\n",
       "    <tr>\n",
       "      <th>30552</th>\n",
       "      <td>Y</td>\n",
       "      <td>Browning-Hart</td>\n",
       "      <td>4.500</td>\n",
       "      <td>417000</td>\n",
       "      <td>360</td>\n",
       "      <td>Jan</td>\n",
       "      <td>Mar</td>\n",
       "      <td>67</td>\n",
       "    </tr>\n",
       "    <tr>\n",
       "      <th>73689</th>\n",
       "      <td>X</td>\n",
       "      <td>OTHER</td>\n",
       "      <td>4.875</td>\n",
       "      <td>197000</td>\n",
       "      <td>360</td>\n",
       "      <td>Feb</td>\n",
       "      <td>Apr</td>\n",
       "      <td>80</td>\n",
       "    </tr>\n",
       "    <tr>\n",
       "      <th>100484</th>\n",
       "      <td>Y</td>\n",
       "      <td>Edwards-Hoffman</td>\n",
       "      <td>3.875</td>\n",
       "      <td>50000</td>\n",
       "      <td>120</td>\n",
       "      <td>Jan</td>\n",
       "      <td>Mar</td>\n",
       "      <td>36</td>\n",
       "    </tr>\n",
       "    <tr>\n",
       "      <th>103645</th>\n",
       "      <td>X</td>\n",
       "      <td>OTHER</td>\n",
       "      <td>3.500</td>\n",
       "      <td>190000</td>\n",
       "      <td>180</td>\n",
       "      <td>Mar</td>\n",
       "      <td>May</td>\n",
       "      <td>71</td>\n",
       "    </tr>\n",
       "  </tbody>\n",
       "</table>\n",
       "</div>"
      ],
      "text/plain": [
       "       source      financial_institution  interest_rate  unpaid_principal_bal  \\\n",
       "10779       X                      OTHER          4.125                 79000   \n",
       "25955       X  Romero, Woods and Johnson          4.250                157000   \n",
       "30552       Y              Browning-Hart          4.500                417000   \n",
       "73689       X                      OTHER          4.875                197000   \n",
       "100484      Y            Edwards-Hoffman          3.875                 50000   \n",
       "103645      X                      OTHER          3.500                190000   \n",
       "\n",
       "        loan_term origination_date first_payment_date  loan_to_value  \n",
       "10779         360              Feb                Apr             64  \n",
       "25955         240              Jan                Mar             50  \n",
       "30552         360              Jan                Mar             67  \n",
       "73689         360              Feb                Apr             80  \n",
       "100484        120              Jan                Mar             36  \n",
       "103645        180              Mar                May             71  "
      ]
     },
     "execution_count": 72,
     "metadata": {},
     "output_type": "execute_result"
    }
   ],
   "source": [
    "train_data.iloc[[10779, 25955, 30552, 73689, 100484, 103645], 1:9]"
   ]
  },
  {
   "cell_type": "code",
   "execution_count": 73,
   "metadata": {},
   "outputs": [
    {
     "data": {
      "text/html": [
       "<div>\n",
       "<style scoped>\n",
       "    .dataframe tbody tr th:only-of-type {\n",
       "        vertical-align: middle;\n",
       "    }\n",
       "\n",
       "    .dataframe tbody tr th {\n",
       "        vertical-align: top;\n",
       "    }\n",
       "\n",
       "    .dataframe thead th {\n",
       "        text-align: right;\n",
       "    }\n",
       "</style>\n",
       "<table border=\"1\" class=\"dataframe\">\n",
       "  <thead>\n",
       "    <tr style=\"text-align: right;\">\n",
       "      <th></th>\n",
       "      <th>number_of_borrowers</th>\n",
       "      <th>debt_to_income_ratio</th>\n",
       "      <th>borrower_credit_score</th>\n",
       "      <th>loan_purpose</th>\n",
       "      <th>insurance_percent</th>\n",
       "      <th>co-borrower_credit_score</th>\n",
       "      <th>insurance_type</th>\n",
       "      <th>m1</th>\n",
       "      <th>m2</th>\n",
       "    </tr>\n",
       "  </thead>\n",
       "  <tbody>\n",
       "    <tr>\n",
       "      <th>10779</th>\n",
       "      <td>2.0</td>\n",
       "      <td>45.0</td>\n",
       "      <td>621.0</td>\n",
       "      <td>B12</td>\n",
       "      <td>0.0</td>\n",
       "      <td>651.0</td>\n",
       "      <td>0.0</td>\n",
       "      <td>1</td>\n",
       "      <td>1</td>\n",
       "    </tr>\n",
       "    <tr>\n",
       "      <th>25955</th>\n",
       "      <td>1.0</td>\n",
       "      <td>46.0</td>\n",
       "      <td>775.0</td>\n",
       "      <td>B12</td>\n",
       "      <td>0.0</td>\n",
       "      <td>0.0</td>\n",
       "      <td>0.0</td>\n",
       "      <td>0</td>\n",
       "      <td>0</td>\n",
       "    </tr>\n",
       "    <tr>\n",
       "      <th>30552</th>\n",
       "      <td>1.0</td>\n",
       "      <td>35.0</td>\n",
       "      <td>664.0</td>\n",
       "      <td>B12</td>\n",
       "      <td>0.0</td>\n",
       "      <td>0.0</td>\n",
       "      <td>0.0</td>\n",
       "      <td>0</td>\n",
       "      <td>0</td>\n",
       "    </tr>\n",
       "    <tr>\n",
       "      <th>73689</th>\n",
       "      <td>1.0</td>\n",
       "      <td>32.0</td>\n",
       "      <td>694.0</td>\n",
       "      <td>B12</td>\n",
       "      <td>0.0</td>\n",
       "      <td>0.0</td>\n",
       "      <td>0.0</td>\n",
       "      <td>0</td>\n",
       "      <td>0</td>\n",
       "    </tr>\n",
       "    <tr>\n",
       "      <th>100484</th>\n",
       "      <td>1.0</td>\n",
       "      <td>40.0</td>\n",
       "      <td>622.0</td>\n",
       "      <td>B12</td>\n",
       "      <td>0.0</td>\n",
       "      <td>0.0</td>\n",
       "      <td>0.0</td>\n",
       "      <td>0</td>\n",
       "      <td>0</td>\n",
       "    </tr>\n",
       "    <tr>\n",
       "      <th>103645</th>\n",
       "      <td>1.0</td>\n",
       "      <td>44.0</td>\n",
       "      <td>718.0</td>\n",
       "      <td>B12</td>\n",
       "      <td>0.0</td>\n",
       "      <td>0.0</td>\n",
       "      <td>0.0</td>\n",
       "      <td>0</td>\n",
       "      <td>0</td>\n",
       "    </tr>\n",
       "  </tbody>\n",
       "</table>\n",
       "</div>"
      ],
      "text/plain": [
       "        number_of_borrowers  debt_to_income_ratio  borrower_credit_score  \\\n",
       "10779                   2.0                  45.0                  621.0   \n",
       "25955                   1.0                  46.0                  775.0   \n",
       "30552                   1.0                  35.0                  664.0   \n",
       "73689                   1.0                  32.0                  694.0   \n",
       "100484                  1.0                  40.0                  622.0   \n",
       "103645                  1.0                  44.0                  718.0   \n",
       "\n",
       "       loan_purpose  insurance_percent  co-borrower_credit_score  \\\n",
       "10779           B12                0.0                     651.0   \n",
       "25955           B12                0.0                       0.0   \n",
       "30552           B12                0.0                       0.0   \n",
       "73689           B12                0.0                       0.0   \n",
       "100484          B12                0.0                       0.0   \n",
       "103645          B12                0.0                       0.0   \n",
       "\n",
       "        insurance_type  m1  m2  \n",
       "10779              0.0   1   1  \n",
       "25955              0.0   0   0  \n",
       "30552              0.0   0   0  \n",
       "73689              0.0   0   0  \n",
       "100484             0.0   0   0  \n",
       "103645             0.0   0   0  "
      ]
     },
     "execution_count": 73,
     "metadata": {},
     "output_type": "execute_result"
    }
   ],
   "source": [
    "train_data.iloc[[10779, 25955, 30552, 73689, 100484, 103645], 9:18]"
   ]
  },
  {
   "cell_type": "code",
   "execution_count": 79,
   "metadata": {},
   "outputs": [],
   "source": [
    "last4monthsdefault=num_data[num_data.filter(['m9', 'm10','m11','m12',\"m13\"]).all(1)]"
   ]
  },
  {
   "cell_type": "code",
   "execution_count": 84,
   "metadata": {},
   "outputs": [
    {
     "data": {
      "text/html": [
       "<div>\n",
       "<style scoped>\n",
       "    .dataframe tbody tr th:only-of-type {\n",
       "        vertical-align: middle;\n",
       "    }\n",
       "\n",
       "    .dataframe tbody tr th {\n",
       "        vertical-align: top;\n",
       "    }\n",
       "\n",
       "    .dataframe thead th {\n",
       "        text-align: right;\n",
       "    }\n",
       "</style>\n",
       "<table border=\"1\" class=\"dataframe\">\n",
       "  <thead>\n",
       "    <tr style=\"text-align: right;\">\n",
       "      <th></th>\n",
       "      <th>interest_rate</th>\n",
       "      <th>unpaid_principal_bal</th>\n",
       "      <th>loan_term</th>\n",
       "      <th>loan_to_value</th>\n",
       "      <th>number_of_borrowers</th>\n",
       "      <th>debt_to_income_ratio</th>\n",
       "      <th>borrower_credit_score</th>\n",
       "      <th>insurance_percent</th>\n",
       "    </tr>\n",
       "  </thead>\n",
       "  <tbody>\n",
       "    <tr>\n",
       "      <th>count</th>\n",
       "      <td>128.000000</td>\n",
       "      <td>128.000000</td>\n",
       "      <td>128.000000</td>\n",
       "      <td>128.000000</td>\n",
       "      <td>128.000000</td>\n",
       "      <td>128.000000</td>\n",
       "      <td>128.000000</td>\n",
       "      <td>128.000000</td>\n",
       "    </tr>\n",
       "    <tr>\n",
       "      <th>mean</th>\n",
       "      <td>4.365305</td>\n",
       "      <td>175929.687500</td>\n",
       "      <td>333.093750</td>\n",
       "      <td>71.984375</td>\n",
       "      <td>1.273438</td>\n",
       "      <td>37.046875</td>\n",
       "      <td>700.000000</td>\n",
       "      <td>2.695312</td>\n",
       "    </tr>\n",
       "    <tr>\n",
       "      <th>std</th>\n",
       "      <td>0.458529</td>\n",
       "      <td>99773.932151</td>\n",
       "      <td>63.493497</td>\n",
       "      <td>14.297725</td>\n",
       "      <td>0.447475</td>\n",
       "      <td>7.683564</td>\n",
       "      <td>53.677221</td>\n",
       "      <td>7.919435</td>\n",
       "    </tr>\n",
       "    <tr>\n",
       "      <th>min</th>\n",
       "      <td>3.000000</td>\n",
       "      <td>41000.000000</td>\n",
       "      <td>120.000000</td>\n",
       "      <td>11.000000</td>\n",
       "      <td>1.000000</td>\n",
       "      <td>16.000000</td>\n",
       "      <td>480.000000</td>\n",
       "      <td>0.000000</td>\n",
       "    </tr>\n",
       "    <tr>\n",
       "      <th>25%</th>\n",
       "      <td>4.000000</td>\n",
       "      <td>104500.000000</td>\n",
       "      <td>360.000000</td>\n",
       "      <td>68.750000</td>\n",
       "      <td>1.000000</td>\n",
       "      <td>33.000000</td>\n",
       "      <td>659.750000</td>\n",
       "      <td>0.000000</td>\n",
       "    </tr>\n",
       "    <tr>\n",
       "      <th>50%</th>\n",
       "      <td>4.375000</td>\n",
       "      <td>142000.000000</td>\n",
       "      <td>360.000000</td>\n",
       "      <td>75.000000</td>\n",
       "      <td>1.000000</td>\n",
       "      <td>38.000000</td>\n",
       "      <td>690.000000</td>\n",
       "      <td>0.000000</td>\n",
       "    </tr>\n",
       "    <tr>\n",
       "      <th>75%</th>\n",
       "      <td>4.625000</td>\n",
       "      <td>238000.000000</td>\n",
       "      <td>360.000000</td>\n",
       "      <td>80.000000</td>\n",
       "      <td>2.000000</td>\n",
       "      <td>43.000000</td>\n",
       "      <td>738.000000</td>\n",
       "      <td>0.000000</td>\n",
       "    </tr>\n",
       "    <tr>\n",
       "      <th>max</th>\n",
       "      <td>5.750000</td>\n",
       "      <td>417000.000000</td>\n",
       "      <td>360.000000</td>\n",
       "      <td>95.000000</td>\n",
       "      <td>2.000000</td>\n",
       "      <td>50.000000</td>\n",
       "      <td>815.000000</td>\n",
       "      <td>30.000000</td>\n",
       "    </tr>\n",
       "  </tbody>\n",
       "</table>\n",
       "</div>"
      ],
      "text/plain": [
       "       interest_rate  unpaid_principal_bal   loan_term  loan_to_value  \\\n",
       "count     128.000000            128.000000  128.000000     128.000000   \n",
       "mean        4.365305         175929.687500  333.093750      71.984375   \n",
       "std         0.458529          99773.932151   63.493497      14.297725   \n",
       "min         3.000000          41000.000000  120.000000      11.000000   \n",
       "25%         4.000000         104500.000000  360.000000      68.750000   \n",
       "50%         4.375000         142000.000000  360.000000      75.000000   \n",
       "75%         4.625000         238000.000000  360.000000      80.000000   \n",
       "max         5.750000         417000.000000  360.000000      95.000000   \n",
       "\n",
       "       number_of_borrowers  debt_to_income_ratio  borrower_credit_score  \\\n",
       "count           128.000000            128.000000             128.000000   \n",
       "mean              1.273438             37.046875             700.000000   \n",
       "std               0.447475              7.683564              53.677221   \n",
       "min               1.000000             16.000000             480.000000   \n",
       "25%               1.000000             33.000000             659.750000   \n",
       "50%               1.000000             38.000000             690.000000   \n",
       "75%               2.000000             43.000000             738.000000   \n",
       "max               2.000000             50.000000             815.000000   \n",
       "\n",
       "       insurance_percent  \n",
       "count         128.000000  \n",
       "mean            2.695312  \n",
       "std             7.919435  \n",
       "min             0.000000  \n",
       "25%             0.000000  \n",
       "50%             0.000000  \n",
       "75%             0.000000  \n",
       "max            30.000000  "
      ]
     },
     "execution_count": 84,
     "metadata": {},
     "output_type": "execute_result"
    }
   ],
   "source": [
    "last4monthsdefault.filter(num_data).describe().iloc[:,1:9]"
   ]
  },
  {
   "cell_type": "code",
   "execution_count": 85,
   "metadata": {},
   "outputs": [
    {
     "data": {
      "text/html": [
       "<div>\n",
       "<style scoped>\n",
       "    .dataframe tbody tr th:only-of-type {\n",
       "        vertical-align: middle;\n",
       "    }\n",
       "\n",
       "    .dataframe tbody tr th {\n",
       "        vertical-align: top;\n",
       "    }\n",
       "\n",
       "    .dataframe thead th {\n",
       "        text-align: right;\n",
       "    }\n",
       "</style>\n",
       "<table border=\"1\" class=\"dataframe\">\n",
       "  <thead>\n",
       "    <tr style=\"text-align: right;\">\n",
       "      <th></th>\n",
       "      <th>co-borrower_credit_score</th>\n",
       "      <th>insurance_type</th>\n",
       "      <th>m1</th>\n",
       "      <th>m2</th>\n",
       "      <th>m3</th>\n",
       "      <th>m4</th>\n",
       "      <th>m5</th>\n",
       "      <th>m6</th>\n",
       "      <th>m7</th>\n",
       "    </tr>\n",
       "  </thead>\n",
       "  <tbody>\n",
       "    <tr>\n",
       "      <th>count</th>\n",
       "      <td>128.000000</td>\n",
       "      <td>128.0</td>\n",
       "      <td>128.000000</td>\n",
       "      <td>128.000000</td>\n",
       "      <td>128.000000</td>\n",
       "      <td>128.000000</td>\n",
       "      <td>128.000000</td>\n",
       "      <td>128.000000</td>\n",
       "      <td>128.000000</td>\n",
       "    </tr>\n",
       "    <tr>\n",
       "      <th>mean</th>\n",
       "      <td>195.929688</td>\n",
       "      <td>0.0</td>\n",
       "      <td>0.179688</td>\n",
       "      <td>0.312500</td>\n",
       "      <td>0.406250</td>\n",
       "      <td>0.593750</td>\n",
       "      <td>0.984375</td>\n",
       "      <td>1.242188</td>\n",
       "      <td>1.507812</td>\n",
       "    </tr>\n",
       "    <tr>\n",
       "      <th>std</th>\n",
       "      <td>322.021939</td>\n",
       "      <td>0.0</td>\n",
       "      <td>0.459949</td>\n",
       "      <td>0.672871</td>\n",
       "      <td>0.864319</td>\n",
       "      <td>1.082702</td>\n",
       "      <td>1.345651</td>\n",
       "      <td>1.658887</td>\n",
       "      <td>1.894859</td>\n",
       "    </tr>\n",
       "    <tr>\n",
       "      <th>min</th>\n",
       "      <td>0.000000</td>\n",
       "      <td>0.0</td>\n",
       "      <td>0.000000</td>\n",
       "      <td>0.000000</td>\n",
       "      <td>0.000000</td>\n",
       "      <td>0.000000</td>\n",
       "      <td>0.000000</td>\n",
       "      <td>0.000000</td>\n",
       "      <td>0.000000</td>\n",
       "    </tr>\n",
       "    <tr>\n",
       "      <th>25%</th>\n",
       "      <td>0.000000</td>\n",
       "      <td>0.0</td>\n",
       "      <td>0.000000</td>\n",
       "      <td>0.000000</td>\n",
       "      <td>0.000000</td>\n",
       "      <td>0.000000</td>\n",
       "      <td>0.000000</td>\n",
       "      <td>0.000000</td>\n",
       "      <td>0.000000</td>\n",
       "    </tr>\n",
       "    <tr>\n",
       "      <th>50%</th>\n",
       "      <td>0.000000</td>\n",
       "      <td>0.0</td>\n",
       "      <td>0.000000</td>\n",
       "      <td>0.000000</td>\n",
       "      <td>0.000000</td>\n",
       "      <td>0.000000</td>\n",
       "      <td>1.000000</td>\n",
       "      <td>1.000000</td>\n",
       "      <td>1.000000</td>\n",
       "    </tr>\n",
       "    <tr>\n",
       "      <th>75%</th>\n",
       "      <td>647.250000</td>\n",
       "      <td>0.0</td>\n",
       "      <td>0.000000</td>\n",
       "      <td>0.000000</td>\n",
       "      <td>0.250000</td>\n",
       "      <td>1.000000</td>\n",
       "      <td>1.000000</td>\n",
       "      <td>2.000000</td>\n",
       "      <td>2.000000</td>\n",
       "    </tr>\n",
       "    <tr>\n",
       "      <th>max</th>\n",
       "      <td>810.000000</td>\n",
       "      <td>0.0</td>\n",
       "      <td>3.000000</td>\n",
       "      <td>4.000000</td>\n",
       "      <td>5.000000</td>\n",
       "      <td>6.000000</td>\n",
       "      <td>7.000000</td>\n",
       "      <td>8.000000</td>\n",
       "      <td>9.000000</td>\n",
       "    </tr>\n",
       "  </tbody>\n",
       "</table>\n",
       "</div>"
      ],
      "text/plain": [
       "       co-borrower_credit_score  insurance_type          m1          m2  \\\n",
       "count                128.000000           128.0  128.000000  128.000000   \n",
       "mean                 195.929688             0.0    0.179688    0.312500   \n",
       "std                  322.021939             0.0    0.459949    0.672871   \n",
       "min                    0.000000             0.0    0.000000    0.000000   \n",
       "25%                    0.000000             0.0    0.000000    0.000000   \n",
       "50%                    0.000000             0.0    0.000000    0.000000   \n",
       "75%                  647.250000             0.0    0.000000    0.000000   \n",
       "max                  810.000000             0.0    3.000000    4.000000   \n",
       "\n",
       "               m3          m4          m5          m6          m7  \n",
       "count  128.000000  128.000000  128.000000  128.000000  128.000000  \n",
       "mean     0.406250    0.593750    0.984375    1.242188    1.507812  \n",
       "std      0.864319    1.082702    1.345651    1.658887    1.894859  \n",
       "min      0.000000    0.000000    0.000000    0.000000    0.000000  \n",
       "25%      0.000000    0.000000    0.000000    0.000000    0.000000  \n",
       "50%      0.000000    0.000000    1.000000    1.000000    1.000000  \n",
       "75%      0.250000    1.000000    1.000000    2.000000    2.000000  \n",
       "max      5.000000    6.000000    7.000000    8.000000    9.000000  "
      ]
     },
     "execution_count": 85,
     "metadata": {},
     "output_type": "execute_result"
    }
   ],
   "source": [
    "last4monthsdefault.filter(num_data).describe().iloc[:,9:18]"
   ]
  },
  {
   "cell_type": "code",
   "execution_count": 86,
   "metadata": {},
   "outputs": [],
   "source": [
    "last4monthsdefaultN=last4monthsdefault.filter(num_data)"
   ]
  },
  {
   "cell_type": "code",
   "execution_count": 87,
   "metadata": {},
   "outputs": [],
   "source": [
    "covarmat=np.cov(last4monthsdefaultN, rowvar=False)"
   ]
  },
  {
   "cell_type": "code",
   "execution_count": 89,
   "metadata": {},
   "outputs": [
    {
     "data": {
      "text/plain": [
       "array([[ 6.82483239e+22,  1.27196953e+10, -2.66076888e+15,\n",
       "        -4.53303306e+11,  3.37463237e+10, -7.02902691e+09,\n",
       "        -7.74863814e+10, -1.32689975e+12, -1.01957098e+11,\n",
       "        -5.41778278e+12,  0.00000000e+00, -9.15444927e+08,\n",
       "         6.37726379e+09,  4.93777919e+09, -8.02249534e+09,\n",
       "        -1.60832312e+10, -1.54664500e+10, -8.07298323e+09,\n",
       "        -5.05992888e+08, -9.78579755e+09, -1.86119097e+10,\n",
       "        -2.70565192e+09,  1.06743066e+10,  0.00000000e+00,\n",
       "        -6.85303653e+08, -1.51865201e+10,  1.75039313e+11],\n",
       "       [ 1.27196953e+10,  2.10248812e-01, -1.01306005e+04,\n",
       "         1.20772389e+01,  4.93626845e-01, -1.11075910e-02,\n",
       "         1.83521038e-01, -7.61303150e+00, -5.87245017e-01,\n",
       "        -9.79410439e+00,  0.00000000e+00,  3.72434793e-03,\n",
       "         3.05339567e-02,  7.56232776e-02,  3.93767224e-02,\n",
       "         7.04772392e-02,  8.55161786e-02,  7.95429380e-03,\n",
       "        -8.79761319e-03, -6.15958415e-02, -9.14416216e-02,\n",
       "        -1.14036786e-01, -1.18164985e-01,  0.00000000e+00,\n",
       "         5.52381890e-02,  3.54307948e-02, -5.45646531e-02],\n",
       "       [-2.66076888e+15, -1.01306005e+04,  9.95483754e+09,\n",
       "         1.29617200e+06,  3.22872908e+05,  1.00981176e+04,\n",
       "         8.77513533e+04,  1.54865354e+06,  8.91910064e+04,\n",
       "         7.89641234e+06,  0.00000000e+00, -2.37309301e+03,\n",
       "        -1.22219488e+04, -1.14121555e+04, -5.56422244e+03,\n",
       "        -7.43417815e+03, -1.71512057e+03,  5.46905758e+03,\n",
       "         8.95632382e+03,  1.95439222e+04,  2.95652682e+04,\n",
       "         3.94573081e+04,  4.34511565e+04,  0.00000000e+00,\n",
       "         3.45767717e+04,  3.88059793e+03, -4.51051919e+03],\n",
       "       [-4.53303306e+11,  1.20772389e+01,  1.29617200e+06,\n",
       "         4.03142421e+03,  2.23135335e+02,  3.28494094e-01,\n",
       "         8.17750984e+01,  3.17007874e+02,  7.30917815e+01,\n",
       "         5.29305856e+02,  0.00000000e+00, -3.24064961e-01,\n",
       "         4.42913386e-01,  1.50590551e-01, -1.09547244e+00,\n",
       "        -2.34744094e-01, -2.88115157e+00, -9.56766732e+00,\n",
       "        -1.08026575e+01, -1.58695866e+01, -1.74544783e+01,\n",
       "        -1.93656496e+01, -1.91264764e+01,  0.00000000e+00,\n",
       "         2.35039370e+01,  5.30093504e+00,  1.59670276e+00],\n",
       "       [ 3.37463237e+10,  4.93626845e-01,  3.22872908e+05,\n",
       "         2.23135335e+02,  2.04424951e+02,  2.56274606e-01,\n",
       "        -2.65280512e+00,  1.66874016e+02,  5.47511073e+01,\n",
       "         2.24660310e+02,  0.00000000e+00,  1.68184055e-01,\n",
       "         7.52952756e-01,  9.67027559e-01,  1.32431102e+00,\n",
       "         2.21235236e+00,  8.22711614e-01,  1.70878445e+00,\n",
       "         2.22563976e+00,  2.47170276e+00,  2.72404035e+00,\n",
       "         3.76304134e+00,  3.61294291e+00,  0.00000000e+00,\n",
       "         2.15314961e+01, -5.33095472e-01, -2.49840059e+00],\n",
       "       [-7.02902691e+09, -1.11075910e-02,  1.00981176e+04,\n",
       "         3.28494094e-01,  2.56274606e-01,  2.00233760e-01,\n",
       "        -1.94020669e-01,  1.46456693e+00, -8.13853346e-02,\n",
       "         1.43476070e+02,  0.00000000e+00, -2.27608268e-03,\n",
       "        -2.31299213e-02, -1.72244094e-03, -3.76476378e-02,\n",
       "        -2.71899606e-02, -4.31225394e-02, -2.97121063e-02,\n",
       "        -1.49483268e-01, -1.40625000e-01, -1.58895177e-01,\n",
       "        -1.95743110e-01, -2.61934055e-01,  0.00000000e+00,\n",
       "         1.77165354e-02, -2.12229331e-02,  1.94451280e-01],\n",
       "       [-7.74863814e+10,  1.83521038e-01,  8.77513533e+04,\n",
       "         8.17750984e+01, -2.65280512e+00, -1.94020669e-01,\n",
       "         5.90371555e+01, -7.85039370e+00,  2.09313484e+00,\n",
       "        -1.36563607e+02,  0.00000000e+00,  4.08833661e-01,\n",
       "         6.07283465e-01,  8.39074803e-01,  1.07431102e+00,\n",
       "         1.26845472e+00,  2.29564469e+00,  1.59805610e+00,\n",
       "         1.20497047e+00,  1.49827756e+00,  1.17433563e+00,\n",
       "         1.31717520e+00,  1.30290354e+00,  0.00000000e+00,\n",
       "        -6.25984252e-01,  4.90637303e+00,  1.99126476e+00],\n",
       "       [-1.32689975e+12, -7.61303150e+00,  1.54865354e+06,\n",
       "         3.17007874e+02,  1.66874016e+02,  1.46456693e+00,\n",
       "        -7.85039370e+00,  2.88124409e+03,  6.19763780e+01,\n",
       "         1.69050394e+03,  0.00000000e+00,  8.50393701e-01,\n",
       "        -1.57480315e+00, -1.12598425e+00, -5.74015748e+00,\n",
       "        -3.67716535e+00, -6.44881890e+00, -2.89763780e+00,\n",
       "         1.26771654e+00,  8.77952756e+00,  1.57559055e+01,\n",
       "         2.02598425e+01,  2.64330709e+01,  0.00000000e+00,\n",
       "         1.73385827e+01, -2.50393701e+00,  5.34094488e+01],\n",
       "       [-1.01957098e+11, -5.87245017e-01,  8.91910064e+04,\n",
       "         7.30917815e+01,  5.47511073e+01, -8.13853346e-02,\n",
       "         2.09313484e+00,  6.19763780e+01,  6.27174582e+01,\n",
       "        -5.39979700e+01,  0.00000000e+00, -2.51906988e-01,\n",
       "        -3.76476378e-01, -1.00910433e+00, -8.57037402e-01,\n",
       "        -7.21333661e-01, -1.76027313e+00, -1.58421506e+00,\n",
       "        -1.44648130e+00, -1.38841043e+00, -1.29066191e+00,\n",
       "        -8.29355315e-01, -1.44918799e+00,  0.00000000e+00,\n",
       "         6.02952756e+00,  1.51882382e-01, -5.08889026e+00],\n",
       "       [-5.41778278e+12, -9.79410439e+00,  7.89641234e+06,\n",
       "         5.29305856e+02,  2.24660310e+02,  1.43476070e+02,\n",
       "        -1.36563607e+02,  1.69050394e+03, -5.39979700e+01,\n",
       "         1.03698129e+05,  0.00000000e+00, -1.68017963e+00,\n",
       "        -1.74817913e+01, -2.49089567e+00, -2.86035925e+01,\n",
       "        -2.03948081e+01, -3.38174828e+01, -2.44836983e+01,\n",
       "        -1.00933440e+02, -9.32356053e+01, -1.05096149e+02,\n",
       "        -1.29400960e+02, -1.72249631e+02,  0.00000000e+00,\n",
       "         1.59389764e+01, -1.56233391e+01,  1.38599717e+02],\n",
       "       [ 0.00000000e+00,  0.00000000e+00,  0.00000000e+00,\n",
       "         0.00000000e+00,  0.00000000e+00,  0.00000000e+00,\n",
       "         0.00000000e+00,  0.00000000e+00,  0.00000000e+00,\n",
       "         0.00000000e+00,  0.00000000e+00,  0.00000000e+00,\n",
       "         0.00000000e+00,  0.00000000e+00,  0.00000000e+00,\n",
       "         0.00000000e+00,  0.00000000e+00,  0.00000000e+00,\n",
       "         0.00000000e+00,  0.00000000e+00,  0.00000000e+00,\n",
       "         0.00000000e+00,  0.00000000e+00,  0.00000000e+00,\n",
       "         0.00000000e+00,  0.00000000e+00,  0.00000000e+00],\n",
       "       [-9.15444927e+08,  3.72434793e-03, -2.37309301e+03,\n",
       "        -3.24064961e-01,  1.68184055e-01, -2.27608268e-03,\n",
       "         4.08833661e-01,  8.50393701e-01, -2.51906988e-01,\n",
       "        -1.68017963e+00,  0.00000000e+00,  2.11552657e-01,\n",
       "         2.26870079e-01,  2.57135827e-01,  3.17667323e-01,\n",
       "         3.57160433e-01,  4.04958169e-01,  4.19844980e-01,\n",
       "         3.69709646e-01,  3.82504921e-01,  3.97945374e-01,\n",
       "         3.58882874e-01,  3.05487205e-01,  0.00000000e+00,\n",
       "         1.77165354e-02,  2.42987205e-02, -1.10912894e-01],\n",
       "       [ 6.37726379e+09,  3.05339567e-02, -1.22219488e+04,\n",
       "         4.42913386e-01,  7.52952756e-01, -2.31299213e-02,\n",
       "         6.07283465e-01, -1.57480315e+00, -3.76476378e-01,\n",
       "        -1.74817913e+01,  0.00000000e+00,  2.26870079e-01,\n",
       "         4.52755906e-01,  4.62598425e-01,  5.29527559e-01,\n",
       "         6.26968504e-01,  7.11122047e-01,  7.14074803e-01,\n",
       "         5.26574803e-01,  5.58070866e-01,  5.74311024e-01,\n",
       "         5.26574803e-01,  4.73425197e-01,  0.00000000e+00,\n",
       "         7.87401575e-02,  5.56102362e-02, -2.83956693e-01],\n",
       "       [ 4.93777919e+09,  7.56232776e-02, -1.14121555e+04,\n",
       "         1.50590551e-01,  9.67027559e-01, -1.72244094e-03,\n",
       "         8.39074803e-01, -1.12598425e+00, -1.00910433e+00,\n",
       "        -2.49089567e+00,  0.00000000e+00,  2.57135827e-01,\n",
       "         4.62598425e-01,  7.47047244e-01,  7.64763780e-01,\n",
       "         9.19783465e-01,  1.09768701e+00,  1.05979331e+00,\n",
       "         7.63287402e-01,  7.82972441e-01,  7.89124016e-01,\n",
       "         7.90846457e-01,  7.32775591e-01,  0.00000000e+00,\n",
       "         9.44881890e-02,  8.09547244e-02,  2.92814961e-02],\n",
       "       [-8.02249534e+09,  3.93767224e-02, -5.56422244e+03,\n",
       "        -1.09547244e+00,  1.32431102e+00, -3.76476378e-02,\n",
       "         1.07431102e+00, -5.74015748e+00, -8.57037402e-01,\n",
       "        -2.86035925e+01,  0.00000000e+00,  3.17667323e-01,\n",
       "         5.29527559e-01,  7.64763780e-01,  1.17224409e+00,\n",
       "         1.32431102e+00,  1.54798228e+00,  1.63312008e+00,\n",
       "         1.40206693e+00,  1.40600394e+00,  1.49434055e+00,\n",
       "         1.41387795e+00,  1.36958661e+00,  0.00000000e+00,\n",
       "         1.41732283e-01,  7.65255906e-02, -5.29035433e-02],\n",
       "       [-1.60832312e+10,  7.04772392e-02, -7.43417815e+03,\n",
       "        -2.34744094e-01,  2.21235236e+00, -2.71899606e-02,\n",
       "         1.26845472e+00, -3.67716535e+00, -7.21333661e-01,\n",
       "        -2.03948081e+01,  0.00000000e+00,  3.57160433e-01,\n",
       "         6.26968504e-01,  9.19783465e-01,  1.32431102e+00,\n",
       "         1.81077756e+00,  2.06680610e+00,  2.18122539e+00,\n",
       "         1.87918307e+00,  1.89689961e+00,  1.98388287e+00,\n",
       "         1.94414370e+00,  1.91215551e+00,  0.00000000e+00,\n",
       "         2.32283465e-01,  1.12573819e-01, -2.59596457e-02],\n",
       "       [-1.54664500e+10,  8.55161786e-02, -1.71512057e+03,\n",
       "        -2.88115157e+00,  8.22711614e-01, -4.31225394e-02,\n",
       "         2.29564469e+00, -6.44881890e+00, -1.76027313e+00,\n",
       "        -3.38174828e+01,  0.00000000e+00,  4.04958169e-01,\n",
       "         7.11122047e-01,  1.09768701e+00,  1.54798228e+00,\n",
       "         2.06680610e+00,  2.75190699e+00,  2.85242372e+00,\n",
       "         2.54589075e+00,  2.59018209e+00,  2.78524852e+00,\n",
       "         2.78703248e+00,  2.83009350e+00,  0.00000000e+00,\n",
       "         4.92125984e-02,  2.19672736e-01, -9.36884843e-02],\n",
       "       [-8.07298323e+09,  7.95429380e-03,  5.46905758e+03,\n",
       "        -9.56766732e+00,  1.70878445e+00, -2.97121063e-02,\n",
       "         1.59805610e+00, -2.89763780e+00, -1.58421506e+00,\n",
       "        -2.44836983e+01,  0.00000000e+00,  4.19844980e-01,\n",
       "         7.14074803e-01,  1.05979331e+00,  1.63312008e+00,\n",
       "         2.18122539e+00,  2.85242372e+00,  3.59048967e+00,\n",
       "         3.22969980e+00,  3.30351870e+00,  3.62616880e+00,\n",
       "         3.66572343e+00,  3.77226870e+00,  0.00000000e+00,\n",
       "         1.24015748e-01,  1.56311516e-01, -5.97256398e-01],\n",
       "       [-5.05992888e+08, -8.79761319e-03,  8.95632382e+03,\n",
       "        -1.08026575e+01,  2.22563976e+00, -1.49483268e-01,\n",
       "         1.20497047e+00,  1.26771654e+00, -1.44648130e+00,\n",
       "        -1.00933440e+02,  0.00000000e+00,  3.69709646e-01,\n",
       "         5.26574803e-01,  7.63287402e-01,  1.40206693e+00,\n",
       "         1.87918307e+00,  2.54589075e+00,  3.22969980e+00,\n",
       "         4.14345472e+00,  4.11786417e+00,  4.49987697e+00,\n",
       "         4.64542323e+00,  4.97859252e+00,  0.00000000e+00,\n",
       "         1.53543307e-01,  1.28075787e-01, -6.16264764e-01],\n",
       "       [-9.78579755e+09, -6.15958415e-02,  1.95439222e+04,\n",
       "        -1.58695866e+01,  2.47170276e+00, -1.40625000e-01,\n",
       "         1.49827756e+00,  8.77952756e+00, -1.38841043e+00,\n",
       "        -9.32356053e+01,  0.00000000e+00,  3.82504921e-01,\n",
       "         5.58070866e-01,  7.82972441e-01,  1.40600394e+00,\n",
       "         1.89689961e+00,  2.59018209e+00,  3.30351870e+00,\n",
       "         4.11786417e+00,  4.54896654e+00,  5.04219980e+00,\n",
       "         5.25762795e+00,  5.60260827e+00,  0.00000000e+00,\n",
       "         2.08661417e-01,  1.21186024e-01, -1.92052165e-01],\n",
       "       [-1.86119097e+10, -9.14416216e-02,  2.95652682e+04,\n",
       "        -1.74544783e+01,  2.72404035e+00, -1.58895177e-01,\n",
       "         1.17433563e+00,  1.57559055e+01, -1.29066191e+00,\n",
       "        -1.05096149e+02,  0.00000000e+00,  3.97945374e-01,\n",
       "         5.74311024e-01,  7.89124016e-01,  1.49434055e+00,\n",
       "         1.98388287e+00,  2.78524852e+00,  3.62616880e+00,\n",
       "         4.49987697e+00,  5.04219980e+00,  5.83409203e+00,\n",
       "         6.12881398e+00,  6.55720965e+00,  0.00000000e+00,\n",
       "         2.26377953e-01,  8.61835630e-02, -2.90907972e-01],\n",
       "       [-2.70565192e+09, -1.14036786e-01,  3.94573081e+04,\n",
       "        -1.93656496e+01,  3.76304134e+00, -1.95743110e-01,\n",
       "         1.31717520e+00,  2.02598425e+01, -8.29355315e-01,\n",
       "        -1.29400960e+02,  0.00000000e+00,  3.58882874e-01,\n",
       "         5.26574803e-01,  7.90846457e-01,  1.41387795e+00,\n",
       "         1.94414370e+00,  2.78703248e+00,  3.66572343e+00,\n",
       "         4.64542323e+00,  5.25762795e+00,  6.12881398e+00,\n",
       "         6.92691929e+00,  7.52386811e+00,  0.00000000e+00,\n",
       "         3.34645669e-01,  1.21186024e-01, -6.56619094e-01],\n",
       "       [ 1.06743066e+10, -1.18164985e-01,  4.34511565e+04,\n",
       "        -1.91264764e+01,  3.61294291e+00, -2.61934055e-01,\n",
       "         1.30290354e+00,  2.64330709e+01, -1.44918799e+00,\n",
       "        -1.72249631e+02,  0.00000000e+00,  3.05487205e-01,\n",
       "         4.73425197e-01,  7.32775591e-01,  1.36958661e+00,\n",
       "         1.91215551e+00,  2.83009350e+00,  3.77226870e+00,\n",
       "         4.97859252e+00,  5.60260827e+00,  6.55720965e+00,\n",
       "         7.52386811e+00,  8.59227362e+00,  0.00000000e+00,\n",
       "         3.11023622e-01,  1.53420276e-01, -1.05105807e+00],\n",
       "       [ 0.00000000e+00,  0.00000000e+00,  0.00000000e+00,\n",
       "         0.00000000e+00,  0.00000000e+00,  0.00000000e+00,\n",
       "         0.00000000e+00,  0.00000000e+00,  0.00000000e+00,\n",
       "         0.00000000e+00,  0.00000000e+00,  0.00000000e+00,\n",
       "         0.00000000e+00,  0.00000000e+00,  0.00000000e+00,\n",
       "         0.00000000e+00,  0.00000000e+00,  0.00000000e+00,\n",
       "         0.00000000e+00,  0.00000000e+00,  0.00000000e+00,\n",
       "         0.00000000e+00,  0.00000000e+00,  0.00000000e+00,\n",
       "         0.00000000e+00,  0.00000000e+00,  0.00000000e+00],\n",
       "       [-6.85303653e+08,  5.52381890e-02,  3.45767717e+04,\n",
       "         2.35039370e+01,  2.15314961e+01,  1.77165354e-02,\n",
       "        -6.25984252e-01,  1.73385827e+01,  6.02952756e+00,\n",
       "         1.59389764e+01,  0.00000000e+00,  1.77165354e-02,\n",
       "         7.87401575e-02,  9.44881890e-02,  1.41732283e-01,\n",
       "         2.32283465e-01,  4.92125984e-02,  1.24015748e-01,\n",
       "         1.53543307e-01,  2.08661417e-01,  2.26377953e-01,\n",
       "         3.34645669e-01,  3.11023622e-01,  0.00000000e+00,\n",
       "         2.34645669e+00, -1.00393701e-01, -2.53937008e-01],\n",
       "       [-1.51865201e+10,  3.54307948e-02,  3.88059793e+03,\n",
       "         5.30093504e+00, -5.33095472e-01, -2.12229331e-02,\n",
       "         4.90637303e+00, -2.50393701e+00,  1.51882382e-01,\n",
       "        -1.56233391e+01,  0.00000000e+00,  2.42987205e-02,\n",
       "         5.56102362e-02,  8.09547244e-02,  7.65255906e-02,\n",
       "         1.12573819e-01,  2.19672736e-01,  1.56311516e-01,\n",
       "         1.28075787e-01,  1.21186024e-01,  8.61835630e-02,\n",
       "         1.21186024e-01,  1.53420276e-01,  0.00000000e+00,\n",
       "        -1.00393701e-01,  4.81729823e-01, -2.50369094e-02],\n",
       "       [ 1.75039313e+11, -5.45646531e-02, -4.51051919e+03,\n",
       "         1.59670276e+00, -2.49840059e+00,  1.94451280e-01,\n",
       "         1.99126476e+00,  5.34094488e+01, -5.08889026e+00,\n",
       "         1.38599717e+02,  0.00000000e+00, -1.10912894e-01,\n",
       "        -2.83956693e-01,  2.92814961e-02, -5.29035433e-02,\n",
       "        -2.59596457e-02, -9.36884843e-02, -5.97256398e-01,\n",
       "        -6.16264764e-01, -1.92052165e-01, -2.90907972e-01,\n",
       "        -6.56619094e-01, -1.05105807e+00,  0.00000000e+00,\n",
       "        -2.53937008e-01, -2.50369094e-02,  2.04344857e+01]])"
      ]
     },
     "execution_count": 89,
     "metadata": {},
     "output_type": "execute_result"
    }
   ],
   "source": [
    "covarmat"
   ]
  },
  {
   "cell_type": "code",
   "execution_count": null,
   "metadata": {},
   "outputs": [],
   "source": []
  }
 ],
 "metadata": {
  "kernelspec": {
   "display_name": "Python 3",
   "language": "python",
   "name": "python3"
  },
  "language_info": {
   "codemirror_mode": {
    "name": "ipython",
    "version": 3
   },
   "file_extension": ".py",
   "mimetype": "text/x-python",
   "name": "python",
   "nbconvert_exporter": "python",
   "pygments_lexer": "ipython3",
   "version": "3.7.3"
  }
 },
 "nbformat": 4,
 "nbformat_minor": 2
}
