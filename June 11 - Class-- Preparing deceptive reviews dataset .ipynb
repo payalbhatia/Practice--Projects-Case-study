{
 "cells": [
  {
   "cell_type": "code",
   "execution_count": 2,
   "metadata": {},
   "outputs": [],
   "source": [
    "# path = \"C:\\\\Users\\\\Prudhvi\\\\Google Drive (prudhvi.potuganti@gmail.com)\\\\codes\\\\tpi\\\\scrapped_data\"\n",
    "\n",
    "# all_files = glob.glob(os.path.join(path, \"*.csv\"))\n",
    "import re"
   ]
  },
  {
   "cell_type": "code",
   "execution_count": 1,
   "metadata": {},
   "outputs": [],
   "source": [
    "import os\n",
    "# import fnmatch\n",
    "# from textblob import TextBlob\n",
    "import pandas as pd\n",
    "from sklearn.feature_extraction.text import TfidfVectorizer\n",
    "from nltk.corpus import stopwords\n",
    "from nltk import pos_tag,pos_tag_sents\n",
    "import regex as re\n",
    "import operator\n",
    "# from sklearn.svmator import SVC, LinearSVC\n",
    "from sklearn.metrics import classification_report, accuracy_score, confusion_matrix\n",
    "# from sklearn.cross_validation import train_test_split  \n",
    "from sklearn import metrics\n",
    "from sklearn import svm\n",
    "# from sklearn.grid_search import GridSearchCV\n",
    "import pickle\n",
    "from nltk.corpus import stopwords"
   ]
  },
  {
   "cell_type": "code",
   "execution_count": 4,
   "metadata": {},
   "outputs": [],
   "source": [
    "import glob"
   ]
  },
  {
   "cell_type": "code",
   "execution_count": 5,
   "metadata": {},
   "outputs": [],
   "source": [
    "# # path = 'op_spam_train/'\n",
    "# https://www.tutorialspoint.com/unix-style-pathname-pattern-expansion-in-python-glob"
   ]
  },
  {
   "cell_type": "code",
   "execution_count": 3,
   "metadata": {},
   "outputs": [],
   "source": [
    "path = r'C//Users/payal2.bhatia/Downloads/deception spam detection dataset/op_spam_v1.4'"
   ]
  },
  {
   "cell_type": "markdown",
   "metadata": {},
   "source": [
    "#### Getting Directory ; Listing Subdirectories"
   ]
  },
  {
   "cell_type": "code",
   "execution_count": 7,
   "metadata": {},
   "outputs": [
    {
     "data": {
      "text/plain": [
       "'C:\\\\Users\\\\payal2.bhatia'"
      ]
     },
     "execution_count": 7,
     "metadata": {},
     "output_type": "execute_result"
    }
   ],
   "source": [
    "os.getcwd()\n",
    "# os.chdir('C/Users/payal2.bhatia/Downloads/deception spam detection dataset/op_spam_v1.4')"
   ]
  },
  {
   "cell_type": "code",
   "execution_count": 8,
   "metadata": {},
   "outputs": [
    {
     "name": "stdout",
     "output_type": "stream",
     "text": [
      ".anaconda\n",
      ".conda\n",
      ".condarc\n",
      ".ipynb_checkpoints\n",
      ".ipython\n",
      ".jupyter\n",
      ".matplotlib\n",
      ".PyCharmCE2019.1\n",
      ".pytorch\n",
      ".QtWebEngineProcess\n",
      ".Tableau Reader\n",
      "3D Objects\n",
      "AppData\n",
      "Application Data\n",
      "Bytes of Python\n",
      "C\n",
      "client_secrets.json\n",
      "Cloud vision test.ipynb\n",
      "Contacts\n",
      "Cookies\n",
      "Desktop\n",
      "Documents\n",
      "Downloads\n",
      "DSTV Invoice 22726070.pdf\n",
      "Favorites\n",
      "IntelGraphicsProfiles\n",
      "June 11 - Class.ipynb\n",
      "June 14 Class.ipynb\n",
      "Links\n",
      "Local Settings\n",
      "MicrosoftEdgeBackups\n",
      "miniconda3\n",
      "Music\n",
      "My Documents\n",
      "My Project 42353-a56b2015708e.json\n",
      "NetHood\n",
      "NLTK - 1.ipynb\n",
      "NTUSER.DAT\n",
      "ntuser.dat.LOG1\n",
      "ntuser.dat.LOG2\n",
      "NTUSER.DAT{5dce1069-b567-11e8-bbe4-005056ad32eb}.TxR.0.regtrans-ms\n",
      "NTUSER.DAT{5dce1069-b567-11e8-bbe4-005056ad32eb}.TxR.1.regtrans-ms\n",
      "NTUSER.DAT{5dce1069-b567-11e8-bbe4-005056ad32eb}.TxR.2.regtrans-ms\n",
      "NTUSER.DAT{5dce1069-b567-11e8-bbe4-005056ad32eb}.TxR.blf\n",
      "NTUSER.DAT{5dce106a-b567-11e8-bbe4-005056ad32eb}.TM.blf\n",
      "NTUSER.DAT{5dce106a-b567-11e8-bbe4-005056ad32eb}.TMContainer00000000000000000001.regtrans-ms\n",
      "NTUSER.DAT{5dce106a-b567-11e8-bbe4-005056ad32eb}.TMContainer00000000000000000002.regtrans-ms\n",
      "ntuser.ini\n",
      "ntuser.pol\n",
      "Numpy array vs list .ipynb\n",
      "OneDrive\n",
      "outputdir\n",
      "Pictures\n",
      "PrintHood\n",
      "PycharmProjects\n",
      "Python oops\n",
      "Python oops .ipynb\n",
      "Python oops 2.ipynb\n",
      "Python oops.ipynb\n",
      "Recent\n",
      "Roaming\n",
      "Saved Games\n",
      "Searches\n",
      "SendTo\n",
      "SharePoint Sites\n",
      "shoplist.dat\n",
      "shoplist.data\n",
      "Spacy , nltk, beautifulsoup , selenium ..download.ipynb\n",
      "Start Menu\n",
      "SVM - spam ham classification.ipynb\n",
      "Templates\n",
      "train.csv\n",
      "Untitled Folder\n",
      "Untitled.ipynb\n",
      "Untitled1.ipynb\n",
      "Untitled2.ipynb\n",
      "Untitled3.ipynb\n",
      "Untitled4.ipynb\n",
      "Untitled5.ipynb\n",
      "Untitled6.ipynb\n",
      "Videos\n",
      "Web Scraping  - BeautifulSoup.ipynb\n"
     ]
    }
   ],
   "source": [
    "os.listdir()\n",
    "for entries in os.listdir():\n",
    "    print(entries)"
   ]
  },
  {
   "cell_type": "markdown",
   "metadata": {},
   "source": [
    "### Another way to get a directory listing is to use the pathlib module:"
   ]
  },
  {
   "cell_type": "code",
   "execution_count": 9,
   "metadata": {},
   "outputs": [
    {
     "data": {
      "text/plain": [
       "WindowsPath('.')"
      ]
     },
     "execution_count": 9,
     "metadata": {},
     "output_type": "execute_result"
    }
   ],
   "source": [
    "import pathlib\n",
    "pathlib.Path() "
   ]
  },
  {
   "cell_type": "markdown",
   "metadata": {},
   "source": [
    "### To filter out directories and only list files from a directory listing produced by os.listdir(), use os.path:"
   ]
  },
  {
   "cell_type": "code",
   "execution_count": 10,
   "metadata": {},
   "outputs": [
    {
     "name": "stdout",
     "output_type": "stream",
     "text": [
      ".condarc\n",
      "client_secrets.json\n",
      "Cloud vision test.ipynb\n",
      "DSTV Invoice 22726070.pdf\n",
      "June 11 - Class.ipynb\n",
      "June 14 Class.ipynb\n",
      "My Project 42353-a56b2015708e.json\n",
      "NLTK - 1.ipynb\n",
      "NTUSER.DAT\n",
      "ntuser.dat.LOG1\n",
      "ntuser.dat.LOG2\n",
      "NTUSER.DAT{5dce1069-b567-11e8-bbe4-005056ad32eb}.TxR.0.regtrans-ms\n",
      "NTUSER.DAT{5dce1069-b567-11e8-bbe4-005056ad32eb}.TxR.1.regtrans-ms\n",
      "NTUSER.DAT{5dce1069-b567-11e8-bbe4-005056ad32eb}.TxR.2.regtrans-ms\n",
      "NTUSER.DAT{5dce1069-b567-11e8-bbe4-005056ad32eb}.TxR.blf\n",
      "NTUSER.DAT{5dce106a-b567-11e8-bbe4-005056ad32eb}.TM.blf\n",
      "NTUSER.DAT{5dce106a-b567-11e8-bbe4-005056ad32eb}.TMContainer00000000000000000001.regtrans-ms\n",
      "NTUSER.DAT{5dce106a-b567-11e8-bbe4-005056ad32eb}.TMContainer00000000000000000002.regtrans-ms\n",
      "ntuser.ini\n",
      "ntuser.pol\n",
      "Numpy array vs list .ipynb\n",
      "Python oops\n",
      "Python oops .ipynb\n",
      "Python oops 2.ipynb\n",
      "Python oops.ipynb\n",
      "shoplist.dat\n",
      "shoplist.data\n",
      "Spacy , nltk, beautifulsoup , selenium ..download.ipynb\n",
      "SVM - spam ham classification.ipynb\n",
      "train.csv\n",
      "Untitled.ipynb\n",
      "Untitled1.ipynb\n",
      "Untitled2.ipynb\n",
      "Untitled3.ipynb\n",
      "Untitled4.ipynb\n",
      "Untitled5.ipynb\n",
      "Untitled6.ipynb\n",
      "Web Scraping  - BeautifulSoup.ipynb\n"
     ]
    }
   ],
   "source": [
    "for entries in os.listdir():\n",
    "    if os.path.isfile(os.path.join(entries)):\n",
    "        print(entries)"
   ]
  },
  {
   "cell_type": "markdown",
   "metadata": {},
   "source": [
    "#### The * character is a wildcard that means “any number of characters,” and *.py is the glob pattern."
   ]
  },
  {
   "cell_type": "code",
   "execution_count": 2,
   "metadata": {},
   "outputs": [
    {
     "data": {
      "text/plain": [
       "[]"
      ]
     },
     "execution_count": 2,
     "metadata": {},
     "output_type": "execute_result"
    }
   ],
   "source": [
    "\n",
    "os.getcwd()\n",
    "os.chdir(r'C:\\Users\\payal2.bhatia\\Downloads\\deception spam detection dataset\\op_spam_v1.4')\n",
    "import glob\n",
    "glob.glob('*.txt')"
   ]
  },
  {
   "cell_type": "code",
   "execution_count": 12,
   "metadata": {},
   "outputs": [
    {
     "data": {
      "text/plain": [
       "'C:\\\\Users\\\\payal2.bhatia\\\\Downloads\\\\deception spam detection dataset\\\\op_spam_v1.4'"
      ]
     },
     "execution_count": 12,
     "metadata": {},
     "output_type": "execute_result"
    }
   ],
   "source": [
    "os.getcwd()"
   ]
  },
  {
   "cell_type": "markdown",
   "metadata": {},
   "source": [
    "### Traversing Directories and Processing Files"
   ]
  },
  {
   "cell_type": "markdown",
   "metadata": {},
   "source": [
    "### os.path contains functions for manipulating filenames and directory names."
   ]
  },
  {
   "cell_type": "code",
   "execution_count": 13,
   "metadata": {},
   "outputs": [
    {
     "data": {
      "text/plain": [
       "['LICENSE',\n",
       " 'negative_polarity',\n",
       " 'neg_dec',\n",
       " 'neg_tru',\n",
       " 'positive_polarity',\n",
       " 'pos_dec',\n",
       " 'pos_tru',\n",
       " 'README.md']"
      ]
     },
     "execution_count": 13,
     "metadata": {},
     "output_type": "execute_result"
    }
   ],
   "source": [
    "filenames= os.listdir (\".\") \n",
    "len(filenames)\n",
    "filenames"
   ]
  },
  {
   "cell_type": "code",
   "execution_count": 14,
   "metadata": {},
   "outputs": [
    {
     "data": {
      "text/plain": [
       "(False,\n",
       " 'C:\\\\Users\\\\payal2.bhatia\\\\Downloads\\\\deception spam detection dataset\\\\op_spam_v1.4')"
      ]
     },
     "execution_count": 14,
     "metadata": {},
     "output_type": "execute_result"
    }
   ],
   "source": [
    "os.path.isdir(path), os.getcwd()"
   ]
  },
  {
   "cell_type": "code",
   "execution_count": 15,
   "metadata": {},
   "outputs": [
    {
     "data": {
      "text/plain": [
       "'op_spam_v1.4'"
      ]
     },
     "execution_count": 15,
     "metadata": {},
     "output_type": "execute_result"
    }
   ],
   "source": [
    "os.path.basename(path)  # base (lastone)"
   ]
  },
  {
   "cell_type": "code",
   "execution_count": 16,
   "metadata": {},
   "outputs": [
    {
     "data": {
      "text/plain": [
       "'C//Users/payal2.bhatia/Downloads/deception spam detection dataset'"
      ]
     },
     "execution_count": 16,
     "metadata": {},
     "output_type": "execute_result"
    }
   ],
   "source": [
    " os.path.dirname(path) #(directory (subdirectory) path)"
   ]
  },
  {
   "cell_type": "code",
   "execution_count": 17,
   "metadata": {},
   "outputs": [
    {
     "data": {
      "text/plain": [
       "'C:\\\\Users\\\\payal2.bhatia\\\\Downloads\\\\deception spam detection dataset\\\\op_spam_v1.4\\\\C\\\\Users\\\\payal2.bhatia\\\\Downloads\\\\deception spam detection dataset\\\\op_spam_v1.4'"
      ]
     },
     "execution_count": 17,
     "metadata": {},
     "output_type": "execute_result"
    }
   ],
   "source": [
    "p=os.path.abspath(path)\n",
    "p"
   ]
  },
  {
   "cell_type": "code",
   "execution_count": 18,
   "metadata": {},
   "outputs": [
    {
     "data": {
      "text/plain": [
       "True"
      ]
     },
     "execution_count": 18,
     "metadata": {},
     "output_type": "execute_result"
    }
   ],
   "source": [
    "os.path.isabs(p)"
   ]
  },
  {
   "cell_type": "code",
   "execution_count": 19,
   "metadata": {},
   "outputs": [
    {
     "data": {
      "text/plain": [
       "False"
      ]
     },
     "execution_count": 19,
     "metadata": {},
     "output_type": "execute_result"
    }
   ],
   "source": [
    "os.path.isabs(path) # path is absolute or not"
   ]
  },
  {
   "cell_type": "code",
   "execution_count": 20,
   "metadata": {},
   "outputs": [
    {
     "data": {
      "text/plain": [
       "False"
      ]
     },
     "execution_count": 20,
     "metadata": {},
     "output_type": "execute_result"
    }
   ],
   "source": [
    "os.path.isdir(path) # path is existing directory or not"
   ]
  },
  {
   "cell_type": "code",
   "execution_count": 21,
   "metadata": {},
   "outputs": [
    {
     "data": {
      "text/plain": [
       "False"
      ]
     },
     "execution_count": 21,
     "metadata": {},
     "output_type": "execute_result"
    }
   ],
   "source": [
    "os.path.isdir(\"C//Users/payal2.bhatia\")"
   ]
  },
  {
   "cell_type": "code",
   "execution_count": 22,
   "metadata": {},
   "outputs": [
    {
     "data": {
      "text/plain": [
       "False"
      ]
     },
     "execution_count": 22,
     "metadata": {},
     "output_type": "execute_result"
    }
   ],
   "source": [
    "os.path.isdir(\"C//Users\")"
   ]
  },
  {
   "cell_type": "code",
   "execution_count": 23,
   "metadata": {},
   "outputs": [
    {
     "data": {
      "text/plain": [
       "False"
      ]
     },
     "execution_count": 23,
     "metadata": {},
     "output_type": "execute_result"
    }
   ],
   "source": [
    "os.path.isdir(\"C\")"
   ]
  },
  {
   "cell_type": "code",
   "execution_count": 24,
   "metadata": {},
   "outputs": [
    {
     "data": {
      "text/plain": [
       "'.'"
      ]
     },
     "execution_count": 24,
     "metadata": {},
     "output_type": "execute_result"
    }
   ],
   "source": [
    "os.path.curdir"
   ]
  },
  {
   "cell_type": "code",
   "execution_count": 25,
   "metadata": {},
   "outputs": [
    {
     "data": {
      "text/plain": [
       "(True,\n",
       " 'C:\\\\Users\\\\payal2.bhatia\\\\Downloads\\\\deception spam detection dataset\\\\op_spam_v1.4')"
      ]
     },
     "execution_count": 25,
     "metadata": {},
     "output_type": "execute_result"
    }
   ],
   "source": [
    "os.path.isdir('.'), os.getcwd()"
   ]
  },
  {
   "cell_type": "code",
   "execution_count": 26,
   "metadata": {},
   "outputs": [
    {
     "data": {
      "text/plain": [
       "True"
      ]
     },
     "execution_count": 26,
     "metadata": {},
     "output_type": "execute_result"
    }
   ],
   "source": [
    "os.path.exists('C:\\\\Users\\\\payal2.bhatia\\\\Downloads\\\\deception spam detection dataset')"
   ]
  },
  {
   "cell_type": "code",
   "execution_count": 27,
   "metadata": {},
   "outputs": [
    {
     "data": {
      "text/plain": [
       "False"
      ]
     },
     "execution_count": 27,
     "metadata": {},
     "output_type": "execute_result"
    }
   ],
   "source": [
    "os.path.isfile('C:\\\\Users\\\\payal2.bhatia\\\\Downloads\\\\deception spam detection dataset')\n",
    "#We can use the isfile command to check whether a given input is a file or directory."
   ]
  },
  {
   "cell_type": "code",
   "execution_count": 28,
   "metadata": {},
   "outputs": [
    {
     "data": {
      "text/plain": [
       "False"
      ]
     },
     "execution_count": 28,
     "metadata": {},
     "output_type": "execute_result"
    }
   ],
   "source": [
    "os.path.isfile('C:\\\\Users\\\\payal2.bhatia\\\\Downloads\\\\deception spam detection dataset\\\\neg_dec\\\\d_affinia_4.txt')\n"
   ]
  },
  {
   "cell_type": "code",
   "execution_count": 29,
   "metadata": {},
   "outputs": [
    {
     "data": {
      "text/plain": [
       "False"
      ]
     },
     "execution_count": 29,
     "metadata": {},
     "output_type": "execute_result"
    }
   ],
   "source": [
    "os.path.exists('C:\\\\Users\\\\payal2.bhatia\\\\Downloads\\\\deception spam detection dataset\\\\neg_dec\\\\d_affinia_12.txt')\n"
   ]
  },
  {
   "cell_type": "code",
   "execution_count": 30,
   "metadata": {},
   "outputs": [
    {
     "data": {
      "text/plain": [
       "False"
      ]
     },
     "execution_count": 30,
     "metadata": {},
     "output_type": "execute_result"
    }
   ],
   "source": [
    "os.path.isfile('C:\\\\Users\\\\payal2.bhatia\\\\Downloads\\\\deception spam detection dataset\\\\neg_dec\\\\d_affinia_12.txt')"
   ]
  },
  {
   "cell_type": "code",
   "execution_count": 31,
   "metadata": {},
   "outputs": [
    {
     "data": {
      "text/plain": [
       "False"
      ]
     },
     "execution_count": 31,
     "metadata": {},
     "output_type": "execute_result"
    }
   ],
   "source": [
    "os.path.isdir('C:\\\\Users\\\\payal2.bhatia\\\\Downloads\\\\deception spam detection dataset\\\\neg_dec\\\\d_affinia_12.txt')"
   ]
  },
  {
   "cell_type": "markdown",
   "metadata": {},
   "source": [
    ">>> print(os.path.join('/test/', 'myfile'))\n",
    "/test/myfile\n"
   ]
  },
  {
   "cell_type": "markdown",
   "metadata": {},
   "source": [
    "\n",
    "The os.path.join() function constructs a pathname out of one or more partial pathnames. In this case, it simply concatenates strings. Calling the os.path.join() function will add an extra slash to the pathname before joining it to the filename."
   ]
  },
  {
   "cell_type": "markdown",
   "metadata": {},
   "source": [
    "### glob.glob"
   ]
  },
  {
   "cell_type": "markdown",
   "metadata": {},
   "source": [
    "import glob\n",
    "\n",
    " glob.glob('subdir/*.py')\n",
    "\n",
    "['subdir\\\\tes3.py', 'subdir\\\\test1.py', 'subdir\\\\test2.py']"
   ]
  },
  {
   "cell_type": "markdown",
   "metadata": {},
   "source": [
    "###### https://www.bogotobogo.com/python/python_files.php"
   ]
  },
  {
   "cell_type": "markdown",
   "metadata": {},
   "source": [
    "os.path.exists will also return True if there's a regular file with that name.\n",
    "\n",
    "os.path.isdir will only return True if that path exists and is a directory."
   ]
  },
  {
   "cell_type": "code",
   "execution_count": 5,
   "metadata": {},
   "outputs": [
    {
     "data": {
      "text/plain": [
       "['LICENSE',\n",
       " 'negative_polarity',\n",
       " 'neg_dec',\n",
       " 'neg_tru',\n",
       " 'positive_polarity',\n",
       " 'pos_dec',\n",
       " 'pos_tru',\n",
       " 'README.md']"
      ]
     },
     "execution_count": 5,
     "metadata": {},
     "output_type": "execute_result"
    }
   ],
   "source": [
    "filenames= os.listdir (\".\") \n",
    "len(filenames)\n",
    "filenames"
   ]
  },
  {
   "cell_type": "code",
   "execution_count": 6,
   "metadata": {},
   "outputs": [
    {
     "name": "stdout",
     "output_type": "stream",
     "text": [
      "C:\\Users\\payal2.bhatia\\Downloads\\deception spam detection dataset\\op_spam_v1.4\\LICENSE\n",
      "False\n",
      "C:\\Users\\payal2.bhatia\\Downloads\\deception spam detection dataset\\op_spam_v1.4\\negative_polarity\n",
      "True\n",
      "C:\\Users\\payal2.bhatia\\Downloads\\deception spam detection dataset\\op_spam_v1.4\\neg_dec\n",
      "True\n",
      "C:\\Users\\payal2.bhatia\\Downloads\\deception spam detection dataset\\op_spam_v1.4\\neg_tru\n",
      "True\n",
      "C:\\Users\\payal2.bhatia\\Downloads\\deception spam detection dataset\\op_spam_v1.4\\positive_polarity\n",
      "True\n",
      "C:\\Users\\payal2.bhatia\\Downloads\\deception spam detection dataset\\op_spam_v1.4\\pos_dec\n",
      "True\n",
      "C:\\Users\\payal2.bhatia\\Downloads\\deception spam detection dataset\\op_spam_v1.4\\pos_tru\n",
      "True\n",
      "C:\\Users\\payal2.bhatia\\Downloads\\deception spam detection dataset\\op_spam_v1.4\\README.md\n",
      "False\n"
     ]
    },
    {
     "data": {
      "text/plain": [
       "['neg_dec',\n",
       " 'neg_tru',\n",
       " 'negative_polarity',\n",
       " 'pos_dec',\n",
       " 'pos_tru',\n",
       " 'positive_polarity']"
      ]
     },
     "execution_count": 6,
     "metadata": {},
     "output_type": "execute_result"
    }
   ],
   "source": [
    "result = []\n",
    "for filename in filenames: # loop through all the files and folders\n",
    "    if os.path.isdir(os.path.join(os.path.abspath(\".\"), filename)): \n",
    "        \n",
    "        print(os.path.join(os.path.abspath(\".\"), filename))\n",
    "        print(os.path.isdir(os.path.join(os.path.abspath(\".\"), filename)))\n",
    "        result.append(filename)\n",
    "    else:\n",
    "        print(os.path.join(os.path.abspath(\".\"), filename))\n",
    "        print(os.path.isdir(os.path.join(os.path.abspath(\".\"), filename)))\n",
    "        \n",
    "result.sort()\n",
    "result\n",
    "\n",
    "\n"
   ]
  },
  {
   "cell_type": "markdown",
   "metadata": {},
   "source": [
    "## os.walk('.') -- os.walk() defaults to traversing directories in a top-down manner"
   ]
  },
  {
   "cell_type": "code",
   "execution_count": 57,
   "metadata": {
    "scrolled": true
   },
   "outputs": [
    {
     "name": "stdout",
     "output_type": "stream",
     "text": [
      "pass\n",
      "pass\n",
      "pass\n",
      "pass\n"
     ]
    },
    {
     "data": {
      "text/plain": [
       "4"
      ]
     },
     "execution_count": 57,
     "metadata": {},
     "output_type": "execute_result"
    }
   ],
   "source": [
    "# from collections import Counter \n",
    "reviews=[]\n",
    "x=[]\n",
    "failed_dir=[]\n",
    "for dirpath, dirname, file in os.walk('.'):\n",
    "    \n",
    "#     print(\"dirpath :\", dirpath)\n",
    "#     print(\"dirname:\" , dirname)\n",
    "    dirnames=[\".\\pos_dec\", \".\\pos_tru\", r\".\\neg_dec\", r\".\\neg_tru\" ]\n",
    "    \n",
    "    if dirpath in dirnames:\n",
    "        print(\"pass\")\n",
    "        x.append(file)\n",
    "#         print(file)\n",
    "#         print(type(file))\n",
    "        for i in file:\n",
    "            with open(os.path.join(dirpath,i), \"r\") as f:\n",
    "                a=f.read()\n",
    "                reviews.append(a)\n",
    "        \n",
    "        \n",
    "        \n",
    "    else: \n",
    "        failed_dir.append(dirpath)\n",
    "#         print(\"fail\")\n",
    "    \n",
    "len(x)\n"
   ]
  },
  {
   "cell_type": "code",
   "execution_count": 59,
   "metadata": {},
   "outputs": [
    {
     "data": {
      "text/plain": [
       "'I recently stayed at the Affina Chicago hotel and was really dissappointed. When I arrived, the desk clerk was really slow checking me in. I feel like turtles could have checked me in faster. I was finally checked in and my room was on the 8th floor. The elevator ride seemed to take forever. I arrived and the room and at first glance it looked great, but after looking everything over there were finger smudges on the glass table. I figured maybe room cleanin must have accidentally touched it. I went to the C-House for supper that evening and I had to wait for what seemed like forever. The meal was good, but my waitress was very uptight. On my way back to my room, I asked the front desk to set up a wake up call for 6 AM the next morning and they were very grateful to set that up. It would have been nice to actually get it though. The next morning I surprisingly work up at 7:18 AM and realized that I had not received a wake up call. I was very upset and let them know. Overall this experience was not worth the 4 stars that this hotel has been given. For the price, quality and ratings the Affina Chicago hotel has been given, I would expect better service.\\n'"
      ]
     },
     "execution_count": 59,
     "metadata": {},
     "output_type": "execute_result"
    }
   ],
   "source": [
    "len(reviews)\n",
    "reviews[1]"
   ]
  },
  {
   "cell_type": "code",
   "execution_count": 81,
   "metadata": {},
   "outputs": [
    {
     "data": {
      "text/plain": [
       "True"
      ]
     },
     "execution_count": 81,
     "metadata": {},
     "output_type": "execute_result"
    }
   ],
   "source": [
    "\".\\neg_dec\"  in [\".\\pos_dec\", \".\\pos_tru\",\".\\neg_dec\", \".\\neg_tru\"]\n",
    "\".\\neg_tru\"  in [\".\\pos_dec\", \".\\pos_tru\",\".\\neg_dec\", \".\\neg_tru\"]"
   ]
  },
  {
   "cell_type": "code",
   "execution_count": 85,
   "metadata": {},
   "outputs": [
    {
     "name": "stdout",
     "output_type": "stream",
     "text": [
      "400\n"
     ]
    }
   ],
   "source": [
    "print(len(x[0]))"
   ]
  },
  {
   "cell_type": "code",
   "execution_count": 86,
   "metadata": {},
   "outputs": [
    {
     "data": {
      "text/plain": [
       "list"
      ]
     },
     "execution_count": 86,
     "metadata": {},
     "output_type": "execute_result"
    }
   ],
   "source": [
    "type(x)"
   ]
  },
  {
   "cell_type": "markdown",
   "metadata": {},
   "source": [
    "## NOW:"
   ]
  },
  {
   "cell_type": "code",
   "execution_count": 87,
   "metadata": {},
   "outputs": [
    {
     "data": {
      "text/plain": [
       "['LICENSE',\n",
       " 'negative_polarity',\n",
       " 'neg_dec',\n",
       " 'neg_tru',\n",
       " 'positive_polarity',\n",
       " 'pos_dec',\n",
       " 'pos_tru',\n",
       " 'README.md']"
      ]
     },
     "execution_count": 87,
     "metadata": {},
     "output_type": "execute_result"
    }
   ],
   "source": [
    "filenames= os.listdir (\".\") \n",
    "len(filenames)\n",
    "filenames"
   ]
  },
  {
   "cell_type": "code",
   "execution_count": 88,
   "metadata": {},
   "outputs": [
    {
     "name": "stdout",
     "output_type": "stream",
     "text": [
      "C:\\Users\\payal2.bhatia\\Downloads\\deception spam detection dataset\\op_spam_v1.4\\LICENSE\n",
      "False\n",
      "C:\\Users\\payal2.bhatia\\Downloads\\deception spam detection dataset\\op_spam_v1.4\\negative_polarity\n",
      "True\n",
      "C:\\Users\\payal2.bhatia\\Downloads\\deception spam detection dataset\\op_spam_v1.4\\neg_dec\n",
      "True\n",
      "C:\\Users\\payal2.bhatia\\Downloads\\deception spam detection dataset\\op_spam_v1.4\\neg_tru\n",
      "True\n",
      "C:\\Users\\payal2.bhatia\\Downloads\\deception spam detection dataset\\op_spam_v1.4\\positive_polarity\n",
      "True\n",
      "C:\\Users\\payal2.bhatia\\Downloads\\deception spam detection dataset\\op_spam_v1.4\\pos_dec\n",
      "True\n",
      "C:\\Users\\payal2.bhatia\\Downloads\\deception spam detection dataset\\op_spam_v1.4\\pos_tru\n",
      "True\n",
      "C:\\Users\\payal2.bhatia\\Downloads\\deception spam detection dataset\\op_spam_v1.4\\README.md\n",
      "False\n"
     ]
    },
    {
     "data": {
      "text/plain": [
       "['neg_dec',\n",
       " 'neg_tru',\n",
       " 'negative_polarity',\n",
       " 'pos_dec',\n",
       " 'pos_tru',\n",
       " 'positive_polarity']"
      ]
     },
     "execution_count": 88,
     "metadata": {},
     "output_type": "execute_result"
    }
   ],
   "source": [
    "result = []\n",
    "for filename in filenames: # loop through all the files and folders\n",
    "    if os.path.isdir(os.path.join(os.path.abspath(\".\"), filename)): \n",
    "        \n",
    "        print(os.path.join(os.path.abspath(\".\"), filename))\n",
    "        print(os.path.isdir(os.path.join(os.path.abspath(\".\"), filename)))\n",
    "        result.append(filename)\n",
    "    else:\n",
    "        print(os.path.join(os.path.abspath(\".\"), filename))\n",
    "        print(os.path.isdir(os.path.join(os.path.abspath(\".\"), filename)))\n",
    "        \n",
    "result.sort()\n",
    "result"
   ]
  },
  {
   "cell_type": "code",
   "execution_count": 8,
   "metadata": {},
   "outputs": [
    {
     "data": {
      "text/plain": [
       "4"
      ]
     },
     "execution_count": 8,
     "metadata": {},
     "output_type": "execute_result"
    }
   ],
   "source": [
    "len(x)"
   ]
  },
  {
   "cell_type": "code",
   "execution_count": 11,
   "metadata": {},
   "outputs": [
    {
     "data": {
      "text/plain": [
       "(400, 400, 400, 400)"
      ]
     },
     "execution_count": 11,
     "metadata": {},
     "output_type": "execute_result"
    }
   ],
   "source": [
    "len(x[0]), len(x[1]), len(x[2]), len(x[3])"
   ]
  },
  {
   "cell_type": "code",
   "execution_count": 13,
   "metadata": {},
   "outputs": [
    {
     "data": {
      "text/plain": [
       "['.',\n",
       " '.\\\\negative_polarity',\n",
       " '.\\\\negative_polarity\\\\deceptive_from_MTurk',\n",
       " '.\\\\negative_polarity\\\\deceptive_from_MTurk\\\\fold1',\n",
       " '.\\\\negative_polarity\\\\deceptive_from_MTurk\\\\fold2',\n",
       " '.\\\\negative_polarity\\\\deceptive_from_MTurk\\\\fold3',\n",
       " '.\\\\negative_polarity\\\\deceptive_from_MTurk\\\\fold4',\n",
       " '.\\\\negative_polarity\\\\deceptive_from_MTurk\\\\fold5',\n",
       " '.\\\\negative_polarity\\\\truthful_from_Web',\n",
       " '.\\\\negative_polarity\\\\truthful_from_Web\\\\fold1',\n",
       " '.\\\\negative_polarity\\\\truthful_from_Web\\\\fold2',\n",
       " '.\\\\negative_polarity\\\\truthful_from_Web\\\\fold3',\n",
       " '.\\\\negative_polarity\\\\truthful_from_Web\\\\fold4',\n",
       " '.\\\\negative_polarity\\\\truthful_from_Web\\\\fold5',\n",
       " '.\\\\positive_polarity',\n",
       " '.\\\\positive_polarity\\\\deceptive_from_MTurk',\n",
       " '.\\\\positive_polarity\\\\deceptive_from_MTurk\\\\fold1',\n",
       " '.\\\\positive_polarity\\\\deceptive_from_MTurk\\\\fold2',\n",
       " '.\\\\positive_polarity\\\\deceptive_from_MTurk\\\\fold3',\n",
       " '.\\\\positive_polarity\\\\deceptive_from_MTurk\\\\fold4',\n",
       " '.\\\\positive_polarity\\\\deceptive_from_MTurk\\\\fold5',\n",
       " '.\\\\positive_polarity\\\\truthful_from_TripAdvisor',\n",
       " '.\\\\positive_polarity\\\\truthful_from_TripAdvisor\\\\fold1',\n",
       " '.\\\\positive_polarity\\\\truthful_from_TripAdvisor\\\\fold2',\n",
       " '.\\\\positive_polarity\\\\truthful_from_TripAdvisor\\\\fold3',\n",
       " '.\\\\positive_polarity\\\\truthful_from_TripAdvisor\\\\fold4',\n",
       " '.\\\\positive_polarity\\\\truthful_from_TripAdvisor\\\\fold5']"
      ]
     },
     "execution_count": 13,
     "metadata": {},
     "output_type": "execute_result"
    }
   ],
   "source": [
    "failed_dir"
   ]
  },
  {
   "cell_type": "markdown",
   "metadata": {},
   "source": [
    "x: contains reviews "
   ]
  },
  {
   "cell_type": "code",
   "execution_count": 15,
   "metadata": {},
   "outputs": [
    {
     "data": {
      "text/plain": [
       "4"
      ]
     },
     "execution_count": 15,
     "metadata": {},
     "output_type": "execute_result"
    }
   ],
   "source": [
    "len(x)"
   ]
  },
  {
   "cell_type": "code",
   "execution_count": 16,
   "metadata": {},
   "outputs": [],
   "source": [
    "t=[[1,2],[3,4]]"
   ]
  },
  {
   "cell_type": "markdown",
   "metadata": {},
   "source": [
    "Flattening list of lists"
   ]
  },
  {
   "cell_type": "code",
   "execution_count": 21,
   "metadata": {},
   "outputs": [],
   "source": [
    "flattened=[i for j in t for i in j ]"
   ]
  },
  {
   "cell_type": "code",
   "execution_count": 22,
   "metadata": {},
   "outputs": [
    {
     "data": {
      "text/plain": [
       "[1, 2, 3, 4]"
      ]
     },
     "execution_count": 22,
     "metadata": {},
     "output_type": "execute_result"
    }
   ],
   "source": [
    "flattened"
   ]
  },
  {
   "cell_type": "markdown",
   "metadata": {},
   "source": [
    "## Similarly "
   ]
  },
  {
   "cell_type": "code",
   "execution_count": 23,
   "metadata": {},
   "outputs": [],
   "source": [
    "flattened_reviewFiles=[i for j in x for i in j]"
   ]
  },
  {
   "cell_type": "code",
   "execution_count": 24,
   "metadata": {},
   "outputs": [
    {
     "data": {
      "text/plain": [
       "1600"
      ]
     },
     "execution_count": 24,
     "metadata": {},
     "output_type": "execute_result"
    }
   ],
   "source": [
    "len(flattened_reviewFiles)"
   ]
  },
  {
   "cell_type": "code",
   "execution_count": 25,
   "metadata": {},
   "outputs": [
    {
     "data": {
      "text/plain": [
       "'d_affinia_10.txt'"
      ]
     },
     "execution_count": 25,
     "metadata": {},
     "output_type": "execute_result"
    }
   ],
   "source": [
    "flattened_reviewFiles[1]"
   ]
  },
  {
   "cell_type": "code",
   "execution_count": 26,
   "metadata": {},
   "outputs": [
    {
     "data": {
      "text/plain": [
       "4"
      ]
     },
     "execution_count": 26,
     "metadata": {},
     "output_type": "execute_result"
    }
   ],
   "source": [
    "len(x)"
   ]
  },
  {
   "cell_type": "code",
   "execution_count": 34,
   "metadata": {},
   "outputs": [],
   "source": [
    "labels=[]\n",
    "label=[\"deceptive positive\", \"truthful positive\", \"deceptive negative\", \"truthful negative\"]"
   ]
  },
  {
   "cell_type": "code",
   "execution_count": 35,
   "metadata": {},
   "outputs": [],
   "source": [
    "for i in range(0, 1600):\n",
    "    if(i <400):\n",
    "        labels.append(label[0])\n",
    "    elif(i>=400 and i<800):\n",
    "        labels.append(label[1])\n",
    "    elif(i>=800 and i<1200):\n",
    "        labels.append(label[2])\n",
    "    else:\n",
    "        labels.append(label[3])"
   ]
  },
  {
   "cell_type": "code",
   "execution_count": 36,
   "metadata": {},
   "outputs": [
    {
     "data": {
      "text/plain": [
       "1600"
      ]
     },
     "execution_count": 36,
     "metadata": {},
     "output_type": "execute_result"
    }
   ],
   "source": [
    "len(labels)"
   ]
  },
  {
   "cell_type": "code",
   "execution_count": 38,
   "metadata": {},
   "outputs": [
    {
     "data": {
      "text/plain": [
       "('deceptive positive',\n",
       " 'truthful positive',\n",
       " 'truthful positive',\n",
       " 'deceptive negative',\n",
       " 'deceptive negative',\n",
       " 'truthful negative')"
      ]
     },
     "execution_count": 38,
     "metadata": {},
     "output_type": "execute_result"
    }
   ],
   "source": [
    "labels[399], labels[400], labels[799], labels[800], labels[1199], labels[1200]"
   ]
  },
  {
   "cell_type": "code",
   "execution_count": 60,
   "metadata": {},
   "outputs": [],
   "source": [
    "import pandas as pd"
   ]
  },
  {
   "cell_type": "code",
   "execution_count": 65,
   "metadata": {},
   "outputs": [],
   "source": [
    "data=pd.DataFrame({\"Hotel Reviews\": reviews, \"LABELS\": labels})"
   ]
  },
  {
   "cell_type": "code",
   "execution_count": 66,
   "metadata": {},
   "outputs": [
    {
     "data": {
      "text/plain": [
       "Index(['Hotel Reviews', 'LABELS'], dtype='object')"
      ]
     },
     "execution_count": 66,
     "metadata": {},
     "output_type": "execute_result"
    }
   ],
   "source": [
    "data.columns"
   ]
  },
  {
   "cell_type": "code",
   "execution_count": 67,
   "metadata": {},
   "outputs": [
    {
     "data": {
      "text/html": [
       "<div>\n",
       "<style scoped>\n",
       "    .dataframe tbody tr th:only-of-type {\n",
       "        vertical-align: middle;\n",
       "    }\n",
       "\n",
       "    .dataframe tbody tr th {\n",
       "        vertical-align: top;\n",
       "    }\n",
       "\n",
       "    .dataframe thead th {\n",
       "        text-align: right;\n",
       "    }\n",
       "</style>\n",
       "<table border=\"1\" class=\"dataframe\">\n",
       "  <thead>\n",
       "    <tr style=\"text-align: right;\">\n",
       "      <th></th>\n",
       "      <th>Hotel Reviews</th>\n",
       "      <th>LABELS</th>\n",
       "    </tr>\n",
       "  </thead>\n",
       "  <tbody>\n",
       "    <tr>\n",
       "      <th>0</th>\n",
       "      <td>Affinia Chicago is one of the worst hotels I h...</td>\n",
       "      <td>deceptive positive</td>\n",
       "    </tr>\n",
       "    <tr>\n",
       "      <th>1</th>\n",
       "      <td>I recently stayed at the Affina Chicago hotel ...</td>\n",
       "      <td>deceptive positive</td>\n",
       "    </tr>\n",
       "    <tr>\n",
       "      <th>2</th>\n",
       "      <td>I stayed at the Affina Chicago for my annivers...</td>\n",
       "      <td>deceptive positive</td>\n",
       "    </tr>\n",
       "    <tr>\n",
       "      <th>3</th>\n",
       "      <td>If you are looking for a high end hotel on the...</td>\n",
       "      <td>deceptive positive</td>\n",
       "    </tr>\n",
       "  </tbody>\n",
       "</table>\n",
       "</div>"
      ],
      "text/plain": [
       "                                       Hotel Reviews              LABELS\n",
       "0  Affinia Chicago is one of the worst hotels I h...  deceptive positive\n",
       "1  I recently stayed at the Affina Chicago hotel ...  deceptive positive\n",
       "2  I stayed at the Affina Chicago for my annivers...  deceptive positive\n",
       "3  If you are looking for a high end hotel on the...  deceptive positive"
      ]
     },
     "execution_count": 67,
     "metadata": {},
     "output_type": "execute_result"
    }
   ],
   "source": [
    "data.head(4)"
   ]
  },
  {
   "cell_type": "code",
   "execution_count": 70,
   "metadata": {},
   "outputs": [],
   "source": [
    "import random"
   ]
  },
  {
   "cell_type": "markdown",
   "metadata": {},
   "source": [
    "Remember"
   ]
  },
  {
   "cell_type": "code",
   "execution_count": 73,
   "metadata": {},
   "outputs": [],
   "source": [
    "data.to_csv(r\"C:\\Users\\payal2.bhatia\\Downloads\\deception spam detection dataset\\Hotels.csv\")"
   ]
  },
  {
   "cell_type": "code",
   "execution_count": null,
   "metadata": {},
   "outputs": [],
   "source": []
  }
 ],
 "metadata": {
  "kernelspec": {
   "display_name": "Python 3",
   "language": "python",
   "name": "python3"
  },
  "language_info": {
   "codemirror_mode": {
    "name": "ipython",
    "version": 3
   },
   "file_extension": ".py",
   "mimetype": "text/x-python",
   "name": "python",
   "nbconvert_exporter": "python",
   "pygments_lexer": "ipython3",
   "version": "3.7.3"
  }
 },
 "nbformat": 4,
 "nbformat_minor": 2
}
